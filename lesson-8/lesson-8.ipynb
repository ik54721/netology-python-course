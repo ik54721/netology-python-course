{
 "cells": [
  {
   "cell_type": "markdown",
   "metadata": {},
   "source": [
    "# Задание 1\n",
    "Напишите функцию, которая принимает на вход строку и проверяет является ли она валидным транспортным номером (1 буква, 3 цифры, 2 буквы, 2-3 цифры). Обратите внимание, что не все буквы кириллического алфавита используются в транспортных номерах.\n",
    "Если номер валиден, то функция должна возвращать отдельно номер и регион."
   ]
  },
  {
   "cell_type": "code",
   "execution_count": 1,
   "metadata": {},
   "outputs": [],
   "source": [
    "import re"
   ]
  },
  {
   "cell_type": "code",
   "execution_count": 72,
   "metadata": {},
   "outputs": [
    {
     "name": "stdout",
     "output_type": "stream",
     "text": [
      "Номер А222ВС валиден. Регион: 96\n"
     ]
    }
   ],
   "source": [
    "car_id = 'А222ВС96'\n",
    "\n",
    "regex = r'^([АВЕКМНОРСТУХ]\\d{3}[АВЕКМНОРСТУХ]{2})(\\d{2,3})$'\n",
    "\n",
    "car_id_result = re.findall(regex, car_id)\n",
    "\n",
    "if car_id_result != []:\n",
    "    print(f'Номер {car_id_result[0][0]} валиден. Регион: {car_id_result[0][1]}')\n",
    "else:\n",
    "    print('Номер не валиден')"
   ]
  },
  {
   "cell_type": "markdown",
   "metadata": {},
   "source": [
    "# Задание 2\n",
    "Напишите функцию, которая будет удалять все последовательные повторы слов из заданной строки при помощи регулярных выражений."
   ]
  },
  {
   "cell_type": "code",
   "execution_count": 59,
   "metadata": {},
   "outputs": [
    {
     "name": "stdout",
     "output_type": "stream",
     "text": [
      "Напишите функцию, которая будет удалять все \n",
      "последовательные повторы слов из заданной строки при помощи регулярных выражений.\n"
     ]
    }
   ],
   "source": [
    "some_string = '''Напишите функцию функцию, которая будет будет будет будет удалять все все все все \n",
    "последовательные повторы слов из из из из заданной строки строки при помощи регулярных выражений.'''\n",
    "\n",
    "def remove_duplicates(str_):\n",
    "    print(re.sub(r'(\\w+)( +\\1\\b)+', r'\\1', str_))\n",
    "    \n",
    "remove_duplicates(some_string)"
   ]
  },
  {
   "cell_type": "markdown",
   "metadata": {},
   "source": [
    "# Задание 3\n",
    "Напишите функцию, которая будет возвращать акроним по переданной в нее строке со словами."
   ]
  },
  {
   "cell_type": "code",
   "execution_count": 71,
   "metadata": {},
   "outputs": [
    {
     "name": "stdout",
     "output_type": "stream",
     "text": [
      "NFC\n"
     ]
    }
   ],
   "source": [
    "some_words = 'Near Field Communication'\n",
    "\n",
    "def acronym(str_):\n",
    "    print(''.join(re.findall(r'\\b(\\w)', str_)).upper())\n",
    "    \n",
    "acronym(some_words)"
   ]
  },
  {
   "cell_type": "markdown",
   "metadata": {},
   "source": [
    "# Задание 4\n",
    "Напишите функцию, которая будет принимать на вход список email-адресов и выводить их распределение по доменным зонам."
   ]
  },
  {
   "cell_type": "code",
   "execution_count": 88,
   "metadata": {},
   "outputs": [
    {
     "name": "stdout",
     "output_type": "stream",
     "text": [
      "{'gmail.com': 2, 'test.in': 1, 'ya.ru': 2, 'mail.ru': 1}\n"
     ]
    }
   ],
   "source": [
    "emails = ['test@gmail.com', 'xyz@test.in', 'test@ya.ru', 'xyz@mail.ru', 'xyz@ya.ru', 'xyz@gmail.com']\n",
    "\n",
    "def domains_distr(list_):\n",
    "    domains = {}\n",
    "    regex = r'@(\\w+\\.\\w+)'\n",
    "    for i in list_:\n",
    "        regex_result = re.findall(regex, i)\n",
    "        if regex_result:\n",
    "            domains.setdefault(regex_result[0], 0)\n",
    "            domains[regex_result[0]] += 1\n",
    "    print(domains)\n",
    "        \n",
    "domains_distr(emails)"
   ]
  },
  {
   "cell_type": "markdown",
   "metadata": {},
   "source": [
    "# Задание 5\n",
    "Напишите функцию, которая будет подсчитывать сколько слов начинается на гласные, а сколько на согласные буквы в тексте (текст может быть написан как с использованием букв кириллицы, так и латиницы)."
   ]
  },
  {
   "cell_type": "code",
   "execution_count": 109,
   "metadata": {},
   "outputs": [
    {
     "name": "stdout",
     "output_type": "stream",
     "text": [
      "Слов на гласные буквы: 9\n",
      "Слов на согласные буквы: 21\n"
     ]
    }
   ],
   "source": [
    "some_text = '''Эталонной реализацией Python является интерпретатор CPython, поддерживающий большинство \n",
    "активно используемых платформ. Он распространяется под свободной лицензией Python Software Foundation License, \n",
    "позволяющей использовать его без ограничений в любых приложениях, включая проприетарные.'''\n",
    "\n",
    "def words_count(str_):\n",
    "    regex_vowels = r'\\b([aeiouауоыиэяюёе]\\w*)'\n",
    "    regex_consonants = r'\\b([bcdfghjklmnpqrstvwxyzбвгджзйклмнпрстфхцчшщ]\\w*)'\n",
    "    print(f'Слов на гласные буквы: {len(re.findall(regex_vowels, str_.lower()))}')\n",
    "    print(f'Слов на согласные буквы: {len(re.findall(regex_consonants, str_.lower()))}')\n",
    "    \n",
    "words_count(some_text)"
   ]
  },
  {
   "cell_type": "markdown",
   "metadata": {},
   "source": [
    "# Задание 6\n",
    "Напишите функцию, которая будет проверять номер сотового телефона на валидность (только для российского формата), если он валиден, то переводить его в формат:\n",
    "+7-xxx-xxx-xx-xx"
   ]
  },
  {
   "cell_type": "code",
   "execution_count": 145,
   "metadata": {},
   "outputs": [
    {
     "name": "stdout",
     "output_type": "stream",
     "text": [
      "+7-955-555-55-55\n"
     ]
    }
   ],
   "source": [
    "#phone = '+7 955 555 55-55'\n",
    "phone = '8(955)555-55-55'\n",
    "#phone = '+7 955 555 55 55'\n",
    "#phone = '7(955) 555-55-55'\n",
    "#phone = '123-456-789'\n",
    "#phone = '423-555-55-5555'\n",
    "\n",
    "def phone_check(str_):\n",
    "    regex = r'\\+?\\s?[78][ (-]*(\\w{3})[) -]*(\\w{3})[ -]*(\\w{2})[ -]*(\\w{2})'\n",
    "    if re.findall(regex, str_):\n",
    "        res = re.sub(regex, r'+7-\\1-\\2-\\3-\\4', str_)\n",
    "        print(res)\n",
    "    else:\n",
    "        print('Номер не валиден')\n",
    "    \n",
    "phone_check(phone)"
   ]
  }
 ],
 "metadata": {
  "kernelspec": {
   "display_name": "Python 3",
   "language": "python",
   "name": "python3"
  },
  "language_info": {
   "codemirror_mode": {
    "name": "ipython",
    "version": 3
   },
   "file_extension": ".py",
   "mimetype": "text/x-python",
   "name": "python",
   "nbconvert_exporter": "python",
   "pygments_lexer": "ipython3",
   "version": "3.7.6"
  }
 },
 "nbformat": 4,
 "nbformat_minor": 4
}
