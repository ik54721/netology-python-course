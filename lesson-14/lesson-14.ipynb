{
 "cells": [
  {
   "cell_type": "markdown",
   "metadata": {},
   "source": [
    "# «Основы парсинга и работы с API»"
   ]
  },
  {
   "cell_type": "markdown",
   "metadata": {},
   "source": [
    "# Задание 1\n",
    "\n",
    "## Обязательная часть\n",
    "\n",
    "Будем парсить страницу со свежеми новостям на habr.com/ru/all/.\n",
    "\n",
    "Вам необходимо собирать только те статьи, в которых встречается хотя бы одно требуемое ключевое слово. Эти слова определяем в начале кода в переменной, например:\n",
    "\n",
    "KEYWORDS = ['python', 'парсинг']\n",
    "\n",
    "Поиск вести по всей доступной preview-информации (это информация, доступная непосредственно с текущей страницы).\n",
    "\n",
    "В итоге должен формироваться датафрейм вида: <дата> - <заголовок> - <ссылка>\n",
    "\n",
    "## Дополнительная часть (необязательная)\n",
    "\n",
    "Улучшить скрипт так, чтобы он анализировал не только preview-информацию статьи, но и весь текст статьи целиком.\n",
    "\n",
    "Для этого потребуется получать страницы статей и искать по тексту внутри этой страницы.\n",
    "\n",
    "Итоговый датафрейм формировать со столбцами: <дата> - <заголовок> - <ссылка> - <текст_статьи>"
   ]
  },
  {
   "cell_type": "code",
   "execution_count": 77,
   "metadata": {},
   "outputs": [],
   "source": [
    "import requests\n",
    "import pandas as pd\n",
    "from bs4 import BeautifulSoup\n",
    "import time\n",
    "from datetime import date, timedelta"
   ]
  },
  {
   "cell_type": "code",
   "execution_count": 63,
   "metadata": {},
   "outputs": [],
   "source": [
    "url = 'https://habr.com/ru/all/'\n",
    "keywords = ['python', 'парсинг']"
   ]
  },
  {
   "cell_type": "code",
   "execution_count": 64,
   "metadata": {},
   "outputs": [],
   "source": [
    "def get_all_links(url):\n",
    "    all_links = []\n",
    "    req = requests.get(url)\n",
    "    soup = BeautifulSoup(req.text, 'html.parser')\n",
    "    posts = soup.find_all('article', class_='post')\n",
    "    for post in posts:\n",
    "        post_link = post.find('a', class_='post__title_link').attrs.get('href')\n",
    "        all_links.append(post_link)\n",
    "    return all_links"
   ]
  },
  {
   "cell_type": "code",
   "execution_count": 83,
   "metadata": {
    "scrolled": true
   },
   "outputs": [],
   "source": [
    "def fix_date(broken_date):\n",
    "    fixed_date = broken_date.replace('сегодня в', str(date.today())).replace('вчера в', str(date.today() - timedelta(days=1)))\n",
    "    return fixed_date"
   ]
  },
  {
   "cell_type": "code",
   "execution_count": 86,
   "metadata": {},
   "outputs": [
    {
     "data": {
      "text/html": [
       "<div>\n",
       "<style scoped>\n",
       "    .dataframe tbody tr th:only-of-type {\n",
       "        vertical-align: middle;\n",
       "    }\n",
       "\n",
       "    .dataframe tbody tr th {\n",
       "        vertical-align: top;\n",
       "    }\n",
       "\n",
       "    .dataframe thead th {\n",
       "        text-align: right;\n",
       "    }\n",
       "</style>\n",
       "<table border=\"1\" class=\"dataframe\">\n",
       "  <thead>\n",
       "    <tr style=\"text-align: right;\">\n",
       "      <th></th>\n",
       "      <th>date</th>\n",
       "      <th>title</th>\n",
       "      <th>link</th>\n",
       "      <th>text</th>\n",
       "    </tr>\n",
       "  </thead>\n",
       "  <tbody>\n",
       "    <tr>\n",
       "      <th>0</th>\n",
       "      <td>2020-10-11 17:10</td>\n",
       "      <td>\\nFOSS News №37 – дайджест новостей и других м...</td>\n",
       "      <td>https://habr.com/ru/post/522958/</td>\n",
       "      <td>\\n\\n\\r\\nВсем привет!\\n\\r\\nПродолжаем дайджесты...</td>\n",
       "    </tr>\n",
       "    <tr>\n",
       "      <th>0</th>\n",
       "      <td>2020-10-11 14:29</td>\n",
       "      <td>\\n«Если уже слили»: как сделать документооборо...</td>\n",
       "      <td>https://habr.com/ru/company/1cloud/blog/522914/</td>\n",
       "      <td>\\nРанее мы обсуждали неочевидные моменты, связ...</td>\n",
       "    </tr>\n",
       "    <tr>\n",
       "      <th>0</th>\n",
       "      <td>2020-10-11 13:58</td>\n",
       "      <td>\\nНетривиальное слияние репозиториев с помощью...</td>\n",
       "      <td>https://habr.com/ru/post/522942/</td>\n",
       "      <td>\\nЗадача\\r\\nДано: проект на основе OpenWRT (а ...</td>\n",
       "    </tr>\n",
       "    <tr>\n",
       "      <th>0</th>\n",
       "      <td>2020-10-11 09:34</td>\n",
       "      <td>\\nКонструкторы Fischertechnik плюс одноплатный...</td>\n",
       "      <td>https://habr.com/ru/post/522922/</td>\n",
       "      <td>\\nОтдавая дань продолжительному карантину этог...</td>\n",
       "    </tr>\n",
       "    <tr>\n",
       "      <th>0</th>\n",
       "      <td>2020-10-10 23:05</td>\n",
       "      <td>\\n«Велосипедный набор» или о создании самодель...</td>\n",
       "      <td>https://habr.com/ru/post/522898/</td>\n",
       "      <td>\\nНесколько лет назад я ненадолго увлекся маши...</td>\n",
       "    </tr>\n",
       "  </tbody>\n",
       "</table>\n",
       "</div>"
      ],
      "text/plain": [
       "               date                                              title  \\\n",
       "0  2020-10-11 17:10  \\nFOSS News №37 – дайджест новостей и других м...   \n",
       "0  2020-10-11 14:29  \\n«Если уже слили»: как сделать документооборо...   \n",
       "0  2020-10-11 13:58  \\nНетривиальное слияние репозиториев с помощью...   \n",
       "0  2020-10-11 09:34  \\nКонструкторы Fischertechnik плюс одноплатный...   \n",
       "0  2020-10-10 23:05  \\n«Велосипедный набор» или о создании самодель...   \n",
       "\n",
       "                                              link  \\\n",
       "0                 https://habr.com/ru/post/522958/   \n",
       "0  https://habr.com/ru/company/1cloud/blog/522914/   \n",
       "0                 https://habr.com/ru/post/522942/   \n",
       "0                 https://habr.com/ru/post/522922/   \n",
       "0                 https://habr.com/ru/post/522898/   \n",
       "\n",
       "                                                text  \n",
       "0  \\n\\n\\r\\nВсем привет!\\n\\r\\nПродолжаем дайджесты...  \n",
       "0  \\nРанее мы обсуждали неочевидные моменты, связ...  \n",
       "0  \\nЗадача\\r\\nДано: проект на основе OpenWRT (а ...  \n",
       "0  \\nОтдавая дань продолжительному карантину этог...  \n",
       "0  \\nНесколько лет назад я ненадолго увлекся маши...  "
      ]
     },
     "execution_count": 86,
     "metadata": {},
     "output_type": "execute_result"
    }
   ],
   "source": [
    "def get_keyword_articles(links, keywords):\n",
    "    articles = pd.DataFrame()\n",
    "    for link in links:\n",
    "        req = requests.get(link)\n",
    "        soup = BeautifulSoup(req.text, 'html.parser')\n",
    "        post = soup.find('article', class_='post')\n",
    "        time.sleep(0.5)\n",
    "        if any([kw.lower() in post.text.lower() for kw in keywords]):\n",
    "            post_time = post.find('span', class_='post__time').text\n",
    "            post_title = post.find('h1', class_='post__title').text\n",
    "            post_body = post.find('div', class_='post__body').text\n",
    "            row = {'date': fix_date(post_time), 'title': post_title, 'link': link, 'text': post_body}\n",
    "            articles = pd.concat([articles, pd.DataFrame([row])])\n",
    "    return articles\n",
    "\n",
    "links = get_all_links(url)\n",
    "get_keyword_articles(links, keywords)"
   ]
  },
  {
   "cell_type": "markdown",
   "metadata": {},
   "source": [
    "# Задание 2\n",
    "\n",
    "Написать скрипт, который будет проверять список e-mail адресов на утечку при помощи сервиса Avast Hack Ckeck. \n",
    "\n",
    "Список email-ов задаем переменной в начале кода:\n",
    "\n",
    "EMAIL = [xxx@x.ru, yyy@y.com]\n",
    "\n",
    "В итоге должен формироваться датафрейм со столбцами: <почта> - <дата утечки> - <источник утечки> - <описание утечки>\n",
    "\n",
    "Подсказка: сервис работает при помощи \"скрытого\" API. Внимательно изучите post-запросы."
   ]
  },
  {
   "cell_type": "code",
   "execution_count": 170,
   "metadata": {},
   "outputs": [
    {
     "data": {
      "text/html": [
       "<div>\n",
       "<style scoped>\n",
       "    .dataframe tbody tr th:only-of-type {\n",
       "        vertical-align: middle;\n",
       "    }\n",
       "\n",
       "    .dataframe tbody tr th {\n",
       "        vertical-align: top;\n",
       "    }\n",
       "\n",
       "    .dataframe thead th {\n",
       "        text-align: right;\n",
       "    }\n",
       "</style>\n",
       "<table border=\"1\" class=\"dataframe\">\n",
       "  <thead>\n",
       "    <tr style=\"text-align: right;\">\n",
       "      <th></th>\n",
       "      <th>email</th>\n",
       "      <th>date</th>\n",
       "      <th>source</th>\n",
       "      <th>description</th>\n",
       "    </tr>\n",
       "  </thead>\n",
       "  <tbody>\n",
       "    <tr>\n",
       "      <th>0</th>\n",
       "      <td>ivankotov@gmail.com</td>\n",
       "      <td>2019-03-07T00:00:00Z</td>\n",
       "      <td>dubsmash.com</td>\n",
       "      <td>In December 2018, Dubsmash's database was alle...</td>\n",
       "    </tr>\n",
       "    <tr>\n",
       "      <th>0</th>\n",
       "      <td>ivankotov@gmail.com</td>\n",
       "      <td>2020-07-23T00:00:00Z</td>\n",
       "      <td>wattpad.com</td>\n",
       "      <td>In June 2020, the online writing community Wat...</td>\n",
       "    </tr>\n",
       "  </tbody>\n",
       "</table>\n",
       "</div>"
      ],
      "text/plain": [
       "                 email                  date        source  \\\n",
       "0  ivankotov@gmail.com  2019-03-07T00:00:00Z  dubsmash.com   \n",
       "0  ivankotov@gmail.com  2020-07-23T00:00:00Z   wattpad.com   \n",
       "\n",
       "                                         description  \n",
       "0  In December 2018, Dubsmash's database was alle...  \n",
       "0  In June 2020, the online writing community Wat...  "
      ]
     },
     "execution_count": 170,
     "metadata": {},
     "output_type": "execute_result"
    }
   ],
   "source": [
    "import json\n",
    "url = 'https://identityprotection.avast.com/v1/web/query/site-breaches/unauthorized-data'\n",
    "params = {\n",
    "    \"emailAddresses\":['ivankotov@gmail.com', 'ivankotov1989@gmail.com'],\n",
    "}\n",
    "headers = {\n",
    "    'Vaar-Version':'0',\n",
    "    'Vaar-Header-App-Product':'hackcheck-web-avast'\n",
    "}\n",
    "res = requests.post(url, headers=headers, data=json.dumps(params))\n",
    "res.json()\n",
    "\n",
    "breach_email = {}\n",
    "df = pd.DataFrame()\n",
    "\n",
    "for email, breaches in res.json()['summary'].items():\n",
    "    breach_email[email] = list(breaches.values())[0]\n",
    "\n",
    "for id_, details in res.json()['breaches'].items():\n",
    "    for email, breaches in breach_email.items():\n",
    "        if int(id_) in breaches:\n",
    "            row = {'email': email, \n",
    "                   'date': details['publishDate'], \n",
    "                   'source': details['site'],\n",
    "                   'description': details['description']\n",
    "                  }\n",
    "            df = pd.concat([df, pd.DataFrame([row])])\n",
    "\n",
    "df"
   ]
  }
 ],
 "metadata": {
  "kernelspec": {
   "display_name": "Python 3",
   "language": "python",
   "name": "python3"
  },
  "language_info": {
   "codemirror_mode": {
    "name": "ipython",
    "version": 3
   },
   "file_extension": ".py",
   "mimetype": "text/x-python",
   "name": "python",
   "nbconvert_exporter": "python",
   "pygments_lexer": "ipython3",
   "version": "3.7.6"
  }
 },
 "nbformat": 4,
 "nbformat_minor": 4
}
