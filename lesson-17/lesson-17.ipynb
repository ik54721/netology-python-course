{
 "cells": [
  {
   "cell_type": "markdown",
   "metadata": {},
   "source": [
    "# «Случайные события. Случайные величины»"
   ]
  },
  {
   "cell_type": "markdown",
   "metadata": {},
   "source": [
    "Смоделировать игру против лотерейного автомата типа “777”. Игрок платит 1 руб., после чего выпадает случайное целое число, равномерно распределенное от 0 до 999. При некоторых значениях числа игрок получает выигрыш (см. справа)\n",
    "\n",
    "- Выгодна ли игра игроку?\n",
    "\n",
    "- Сколько в среднем приобретает\n",
    "или теряет игрок за одну игру?\n",
    "\n",
    "777: 200 руб.\n",
    "\n",
    "999: 100 руб.\n",
    "\n",
    "555: 50 руб.\n",
    "\n",
    "333: 15 руб.\n",
    "\n",
    "111: 10 руб.\n",
    "\n",
    "*77: 5 руб.\n",
    "\n",
    "**7: 3 руб.\n",
    "\n",
    "*00: 2 руб.\n",
    "\n",
    "**0: 1 руб.\n",
    "\n",
    "\n",
    "'* – любая цифра\n",
    "\n",
    "Дополнительное задание повышенной сложности. Теоретически рассчитать средний выигрыш (проигрыш) и сравнить с результатами моделирования"
   ]
  },
  {
   "cell_type": "code",
   "execution_count": 1,
   "metadata": {},
   "outputs": [],
   "source": [
    "import numpy as np\n",
    "import re"
   ]
  },
  {
   "cell_type": "code",
   "execution_count": 2,
   "metadata": {},
   "outputs": [
    {
     "name": "stdout",
     "output_type": "stream",
     "text": [
      "Средний проигрыш: -0.218212\n"
     ]
    }
   ],
   "source": [
    "trials = 1000000\n",
    "total_win = 0\n",
    "\n",
    "for i in range(trials):\n",
    "    random_num = np.random.randint(0, 1000)\n",
    "    if random_num < 10:\n",
    "        random_num = '00' + str(random_num)\n",
    "    elif random_num < 100:\n",
    "        random_num = '0' + str(random_num)\n",
    "    else:\n",
    "        random_num = str(random_num)\n",
    "    if random_num == '777':\n",
    "        total_win += 200\n",
    "    elif random_num == '999':\n",
    "        total_win += 100\n",
    "    elif random_num == '555':\n",
    "        total_win += 50\n",
    "    elif random_num == '333':\n",
    "        total_win += 15\n",
    "    elif random_num == '111':\n",
    "        total_win += 10\n",
    "    elif re.findall(r'\\d77', random_num):\n",
    "        total_win += 5\n",
    "    elif re.findall(r'\\d{2}7', random_num):\n",
    "        total_win += 3\n",
    "    elif re.findall(r'\\d00', random_num):\n",
    "        total_win += 2\n",
    "    elif re.findall(r'\\d{2}0', random_num):\n",
    "        total_win += 1\n",
    "\n",
    "print(f'Средний проигрыш: {(total_win - trials) / trials}')"
   ]
  },
  {
   "cell_type": "code",
   "execution_count": 4,
   "metadata": {},
   "outputs": [
    {
     "data": {
      "text/plain": [
       "0.7999999999999999"
      ]
     },
     "execution_count": 4,
     "metadata": {},
     "output_type": "execute_result"
    }
   ],
   "source": [
    "0.001*(200 + 100 + 50 + 15 + 10) + (9/1000)*5 + (10/1000)*2 + ((99-9)/1000)*3 + ((100-10)/1000)*1"
   ]
  }
 ],
 "metadata": {
  "kernelspec": {
   "display_name": "Python 3",
   "language": "python",
   "name": "python3"
  },
  "language_info": {
   "codemirror_mode": {
    "name": "ipython",
    "version": 3
   },
   "file_extension": ".py",
   "mimetype": "text/x-python",
   "name": "python",
   "nbconvert_exporter": "python",
   "pygments_lexer": "ipython3",
   "version": "3.7.6"
  }
 },
 "nbformat": 4,
 "nbformat_minor": 4
}
