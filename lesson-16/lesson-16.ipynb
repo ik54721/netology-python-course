{
 "cells": [
  {
   "cell_type": "markdown",
   "metadata": {},
   "source": [
    "# \"Базовые понятия статистики\""
   ]
  },
  {
   "cell_type": "markdown",
   "metadata": {},
   "source": [
    "## Обязательная часть\n",
    "Будем осуществлять работу с непростым набором данных о состоянии здоровья лошадей, испытывающих кишечные колики.\n",
    "\n",
    "### Задание 1. Базовое изучение\n",
    "Изучить представленный набор данных на основе описания его столбцов и выбрать 8 столбцов для дальнейшего изучения (среди них должны быть как числовые, так и категориальные). Провести расчет базовых метрик для них, кратко описать результаты.\n",
    "### Задание 2. Работа с выбросами\n",
    "В выбранных числовых столбцах найти выбросы, выдвинуть гипотезы об их причинах и проинтерпретировать результаты. Принять и обосновать решение о дальнейшей работе с ними.\n",
    "### Задание 3. Работа с пропусками\n",
    "Рассчитать количество пропусков для всех выбранных столбцов. Принять и обосновать решение о методе работы с пропусками по каждому столбцу, сформировать датафрейм, в котором пропуски будут отсутствовать.\n"
   ]
  },
  {
   "cell_type": "code",
   "execution_count": 110,
   "metadata": {},
   "outputs": [],
   "source": [
    "import pandas as pd\n",
    "import numpy as np\n",
    "import seaborn as sns"
   ]
  },
  {
   "cell_type": "code",
   "execution_count": 101,
   "metadata": {
    "scrolled": true
   },
   "outputs": [
    {
     "data": {
      "text/html": [
       "<div>\n",
       "<style scoped>\n",
       "    .dataframe tbody tr th:only-of-type {\n",
       "        vertical-align: middle;\n",
       "    }\n",
       "\n",
       "    .dataframe tbody tr th {\n",
       "        vertical-align: top;\n",
       "    }\n",
       "\n",
       "    .dataframe thead th {\n",
       "        text-align: right;\n",
       "    }\n",
       "</style>\n",
       "<table border=\"1\" class=\"dataframe\">\n",
       "  <thead>\n",
       "    <tr style=\"text-align: right;\">\n",
       "      <th></th>\n",
       "      <th>surgery</th>\n",
       "      <th>age</th>\n",
       "      <th>hospitalNumber</th>\n",
       "      <th>rectalTemperature</th>\n",
       "      <th>pulse</th>\n",
       "      <th>respiratoryRate</th>\n",
       "      <th>temperatureExtremities</th>\n",
       "      <th>peripheralPulse</th>\n",
       "      <th>mucousMembranes</th>\n",
       "      <th>capillaryRefillTime</th>\n",
       "      <th>...</th>\n",
       "      <th>packedCellVolume</th>\n",
       "      <th>totalProtein</th>\n",
       "      <th>abdominocentesisAppearance</th>\n",
       "      <th>abdomcentesisTotalProtein</th>\n",
       "      <th>outcome</th>\n",
       "      <th>surgicalLesion</th>\n",
       "      <th>typeLesion1</th>\n",
       "      <th>typeLesion2</th>\n",
       "      <th>typeLesion3</th>\n",
       "      <th>cp_data</th>\n",
       "    </tr>\n",
       "  </thead>\n",
       "  <tbody>\n",
       "    <tr>\n",
       "      <th>0</th>\n",
       "      <td>2</td>\n",
       "      <td>1</td>\n",
       "      <td>530101</td>\n",
       "      <td>38.50</td>\n",
       "      <td>66</td>\n",
       "      <td>28</td>\n",
       "      <td>3</td>\n",
       "      <td>3</td>\n",
       "      <td>?</td>\n",
       "      <td>2</td>\n",
       "      <td>...</td>\n",
       "      <td>45.00</td>\n",
       "      <td>8.40</td>\n",
       "      <td>?</td>\n",
       "      <td>?</td>\n",
       "      <td>2</td>\n",
       "      <td>2</td>\n",
       "      <td>11300</td>\n",
       "      <td>0</td>\n",
       "      <td>0</td>\n",
       "      <td>2</td>\n",
       "    </tr>\n",
       "    <tr>\n",
       "      <th>1</th>\n",
       "      <td>1</td>\n",
       "      <td>1</td>\n",
       "      <td>534817</td>\n",
       "      <td>39.2</td>\n",
       "      <td>88</td>\n",
       "      <td>20</td>\n",
       "      <td>?</td>\n",
       "      <td>?</td>\n",
       "      <td>4</td>\n",
       "      <td>1</td>\n",
       "      <td>...</td>\n",
       "      <td>50</td>\n",
       "      <td>85</td>\n",
       "      <td>2</td>\n",
       "      <td>2</td>\n",
       "      <td>3</td>\n",
       "      <td>2</td>\n",
       "      <td>2208</td>\n",
       "      <td>0</td>\n",
       "      <td>0</td>\n",
       "      <td>2</td>\n",
       "    </tr>\n",
       "    <tr>\n",
       "      <th>2</th>\n",
       "      <td>2</td>\n",
       "      <td>1</td>\n",
       "      <td>530334</td>\n",
       "      <td>38.30</td>\n",
       "      <td>40</td>\n",
       "      <td>24</td>\n",
       "      <td>1</td>\n",
       "      <td>1</td>\n",
       "      <td>3</td>\n",
       "      <td>1</td>\n",
       "      <td>...</td>\n",
       "      <td>33.00</td>\n",
       "      <td>6.70</td>\n",
       "      <td>?</td>\n",
       "      <td>?</td>\n",
       "      <td>1</td>\n",
       "      <td>2</td>\n",
       "      <td>0</td>\n",
       "      <td>0</td>\n",
       "      <td>0</td>\n",
       "      <td>1</td>\n",
       "    </tr>\n",
       "    <tr>\n",
       "      <th>3</th>\n",
       "      <td>1</td>\n",
       "      <td>9</td>\n",
       "      <td>5290409</td>\n",
       "      <td>39.10</td>\n",
       "      <td>164</td>\n",
       "      <td>84</td>\n",
       "      <td>4</td>\n",
       "      <td>1</td>\n",
       "      <td>6</td>\n",
       "      <td>2</td>\n",
       "      <td>...</td>\n",
       "      <td>48.00</td>\n",
       "      <td>7.20</td>\n",
       "      <td>3</td>\n",
       "      <td>5.30</td>\n",
       "      <td>2</td>\n",
       "      <td>1</td>\n",
       "      <td>2208</td>\n",
       "      <td>0</td>\n",
       "      <td>0</td>\n",
       "      <td>1</td>\n",
       "    </tr>\n",
       "    <tr>\n",
       "      <th>4</th>\n",
       "      <td>2</td>\n",
       "      <td>1</td>\n",
       "      <td>530255</td>\n",
       "      <td>37.30</td>\n",
       "      <td>104</td>\n",
       "      <td>35</td>\n",
       "      <td>?</td>\n",
       "      <td>?</td>\n",
       "      <td>6</td>\n",
       "      <td>2</td>\n",
       "      <td>...</td>\n",
       "      <td>74.00</td>\n",
       "      <td>7.40</td>\n",
       "      <td>?</td>\n",
       "      <td>?</td>\n",
       "      <td>2</td>\n",
       "      <td>2</td>\n",
       "      <td>4300</td>\n",
       "      <td>0</td>\n",
       "      <td>0</td>\n",
       "      <td>2</td>\n",
       "    </tr>\n",
       "    <tr>\n",
       "      <th>...</th>\n",
       "      <td>...</td>\n",
       "      <td>...</td>\n",
       "      <td>...</td>\n",
       "      <td>...</td>\n",
       "      <td>...</td>\n",
       "      <td>...</td>\n",
       "      <td>...</td>\n",
       "      <td>...</td>\n",
       "      <td>...</td>\n",
       "      <td>...</td>\n",
       "      <td>...</td>\n",
       "      <td>...</td>\n",
       "      <td>...</td>\n",
       "      <td>...</td>\n",
       "      <td>...</td>\n",
       "      <td>...</td>\n",
       "      <td>...</td>\n",
       "      <td>...</td>\n",
       "      <td>...</td>\n",
       "      <td>...</td>\n",
       "      <td>...</td>\n",
       "    </tr>\n",
       "    <tr>\n",
       "      <th>295</th>\n",
       "      <td>1</td>\n",
       "      <td>1</td>\n",
       "      <td>533886</td>\n",
       "      <td>?</td>\n",
       "      <td>120</td>\n",
       "      <td>70</td>\n",
       "      <td>4</td>\n",
       "      <td>?</td>\n",
       "      <td>4</td>\n",
       "      <td>2</td>\n",
       "      <td>...</td>\n",
       "      <td>55</td>\n",
       "      <td>65</td>\n",
       "      <td>?</td>\n",
       "      <td>?</td>\n",
       "      <td>3</td>\n",
       "      <td>2</td>\n",
       "      <td>3205</td>\n",
       "      <td>0</td>\n",
       "      <td>0</td>\n",
       "      <td>2</td>\n",
       "    </tr>\n",
       "    <tr>\n",
       "      <th>296</th>\n",
       "      <td>2</td>\n",
       "      <td>1</td>\n",
       "      <td>527702</td>\n",
       "      <td>37.20</td>\n",
       "      <td>72</td>\n",
       "      <td>24</td>\n",
       "      <td>3</td>\n",
       "      <td>2</td>\n",
       "      <td>4</td>\n",
       "      <td>2</td>\n",
       "      <td>...</td>\n",
       "      <td>44.00</td>\n",
       "      <td>?</td>\n",
       "      <td>3</td>\n",
       "      <td>3.30</td>\n",
       "      <td>3</td>\n",
       "      <td>1</td>\n",
       "      <td>2208</td>\n",
       "      <td>0</td>\n",
       "      <td>0</td>\n",
       "      <td>1</td>\n",
       "    </tr>\n",
       "    <tr>\n",
       "      <th>297</th>\n",
       "      <td>1</td>\n",
       "      <td>1</td>\n",
       "      <td>529386</td>\n",
       "      <td>37.50</td>\n",
       "      <td>72</td>\n",
       "      <td>30</td>\n",
       "      <td>4</td>\n",
       "      <td>3</td>\n",
       "      <td>4</td>\n",
       "      <td>1</td>\n",
       "      <td>...</td>\n",
       "      <td>60.00</td>\n",
       "      <td>6.80</td>\n",
       "      <td>?</td>\n",
       "      <td>?</td>\n",
       "      <td>2</td>\n",
       "      <td>1</td>\n",
       "      <td>3205</td>\n",
       "      <td>0</td>\n",
       "      <td>0</td>\n",
       "      <td>2</td>\n",
       "    </tr>\n",
       "    <tr>\n",
       "      <th>298</th>\n",
       "      <td>1</td>\n",
       "      <td>1</td>\n",
       "      <td>530612</td>\n",
       "      <td>36.50</td>\n",
       "      <td>100</td>\n",
       "      <td>24</td>\n",
       "      <td>3</td>\n",
       "      <td>3</td>\n",
       "      <td>3</td>\n",
       "      <td>1</td>\n",
       "      <td>...</td>\n",
       "      <td>50.00</td>\n",
       "      <td>6.00</td>\n",
       "      <td>3</td>\n",
       "      <td>3.40</td>\n",
       "      <td>1</td>\n",
       "      <td>1</td>\n",
       "      <td>2208</td>\n",
       "      <td>0</td>\n",
       "      <td>0</td>\n",
       "      <td>1</td>\n",
       "    </tr>\n",
       "    <tr>\n",
       "      <th>299</th>\n",
       "      <td>1</td>\n",
       "      <td>1</td>\n",
       "      <td>534618</td>\n",
       "      <td>37.2</td>\n",
       "      <td>40</td>\n",
       "      <td>20</td>\n",
       "      <td>?</td>\n",
       "      <td>?</td>\n",
       "      <td>?</td>\n",
       "      <td>?</td>\n",
       "      <td>...</td>\n",
       "      <td>36</td>\n",
       "      <td>62</td>\n",
       "      <td>1</td>\n",
       "      <td>1</td>\n",
       "      <td>3</td>\n",
       "      <td>2</td>\n",
       "      <td>6112</td>\n",
       "      <td>0</td>\n",
       "      <td>0</td>\n",
       "      <td>2</td>\n",
       "    </tr>\n",
       "  </tbody>\n",
       "</table>\n",
       "<p>300 rows × 28 columns</p>\n",
       "</div>"
      ],
      "text/plain": [
       "    surgery  age  hospitalNumber rectalTemperature pulse respiratoryRate  \\\n",
       "0         2    1          530101             38.50    66              28   \n",
       "1         1    1          534817              39.2    88              20   \n",
       "2         2    1          530334             38.30    40              24   \n",
       "3         1    9         5290409             39.10   164              84   \n",
       "4         2    1          530255             37.30   104              35   \n",
       "..      ...  ...             ...               ...   ...             ...   \n",
       "295       1    1          533886                 ?   120              70   \n",
       "296       2    1          527702             37.20    72              24   \n",
       "297       1    1          529386             37.50    72              30   \n",
       "298       1    1          530612             36.50   100              24   \n",
       "299       1    1          534618              37.2    40              20   \n",
       "\n",
       "    temperatureExtremities peripheralPulse mucousMembranes  \\\n",
       "0                        3               3               ?   \n",
       "1                        ?               ?               4   \n",
       "2                        1               1               3   \n",
       "3                        4               1               6   \n",
       "4                        ?               ?               6   \n",
       "..                     ...             ...             ...   \n",
       "295                      4               ?               4   \n",
       "296                      3               2               4   \n",
       "297                      4               3               4   \n",
       "298                      3               3               3   \n",
       "299                      ?               ?               ?   \n",
       "\n",
       "    capillaryRefillTime  ... packedCellVolume totalProtein  \\\n",
       "0                     2  ...            45.00         8.40   \n",
       "1                     1  ...               50           85   \n",
       "2                     1  ...            33.00         6.70   \n",
       "3                     2  ...            48.00         7.20   \n",
       "4                     2  ...            74.00         7.40   \n",
       "..                  ...  ...              ...          ...   \n",
       "295                   2  ...               55           65   \n",
       "296                   2  ...            44.00            ?   \n",
       "297                   1  ...            60.00         6.80   \n",
       "298                   1  ...            50.00         6.00   \n",
       "299                   ?  ...               36           62   \n",
       "\n",
       "    abdominocentesisAppearance abdomcentesisTotalProtein outcome  \\\n",
       "0                            ?                         ?       2   \n",
       "1                            2                         2       3   \n",
       "2                            ?                         ?       1   \n",
       "3                            3                      5.30       2   \n",
       "4                            ?                         ?       2   \n",
       "..                         ...                       ...     ...   \n",
       "295                          ?                         ?       3   \n",
       "296                          3                      3.30       3   \n",
       "297                          ?                         ?       2   \n",
       "298                          3                      3.40       1   \n",
       "299                          1                         1       3   \n",
       "\n",
       "    surgicalLesion typeLesion1 typeLesion2 typeLesion3 cp_data  \n",
       "0                2       11300           0           0       2  \n",
       "1                2        2208           0           0       2  \n",
       "2                2           0           0           0       1  \n",
       "3                1        2208           0           0       1  \n",
       "4                2        4300           0           0       2  \n",
       "..             ...         ...         ...         ...     ...  \n",
       "295              2        3205           0           0       2  \n",
       "296              1        2208           0           0       1  \n",
       "297              1        3205           0           0       2  \n",
       "298              1        2208           0           0       1  \n",
       "299              2        6112           0           0       2  \n",
       "\n",
       "[300 rows x 28 columns]"
      ]
     },
     "execution_count": 101,
     "metadata": {},
     "output_type": "execute_result"
    }
   ],
   "source": [
    "df = pd.read_csv('https://raw.githubusercontent.com/obulygin/pyda_homeworks/master/statistics_basics/horse_data.csv',\n",
    "                names=['surgery', \n",
    "                       'age', \n",
    "                       'hospitalNumber', \n",
    "                       'rectalTemperature', \n",
    "                       'pulse', \n",
    "                       'respiratoryRate', \n",
    "                       'temperatureExtremities',\n",
    "                       'peripheralPulse',\n",
    "                       'mucousMembranes',\n",
    "                       'capillaryRefillTime',\n",
    "                       'pain',\n",
    "                       'peristalsis',\n",
    "                       'abdominalDistension',\n",
    "                       'nasogastricTube',\n",
    "                       'nasogastricReflux',\n",
    "                       'nasogastricRefluxPH',\n",
    "                       'rectalExamination',\n",
    "                       'abdomen',\n",
    "                       'packedCellVolume',\n",
    "                       'totalProtein',\n",
    "                       'abdominocentesisAppearance',\n",
    "                       'abdomcentesisTotalProtein',\n",
    "                       'outcome',\n",
    "                       'surgicalLesion',\n",
    "                       'typeLesion1',\n",
    "                       'typeLesion2',\n",
    "                       'typeLesion3',\n",
    "                       'cp_data'\n",
    "                      ])\n",
    "df"
   ]
  },
  {
   "cell_type": "markdown",
   "metadata": {},
   "source": [
    "# Атрибут surgery\n",
    "\n",
    "Проверим какие значения есть"
   ]
  },
  {
   "cell_type": "code",
   "execution_count": 12,
   "metadata": {
    "scrolled": true
   },
   "outputs": [
    {
     "data": {
      "text/plain": [
       "1    180\n",
       "2    119\n",
       "?      1\n",
       "Name: surgery, dtype: int64"
      ]
     },
     "execution_count": 12,
     "metadata": {},
     "output_type": "execute_result"
    }
   ],
   "source": [
    "df.surgery.value_counts()"
   ]
  },
  {
   "cell_type": "markdown",
   "metadata": {},
   "source": [
    "Есть одно неизвестное значение. Пропустим его, т.к. сильно не повлияет на результат."
   ]
  },
  {
   "cell_type": "markdown",
   "metadata": {},
   "source": [
    "# Атрибут age\n",
    "\n",
    "Проверим какие значения есть"
   ]
  },
  {
   "cell_type": "code",
   "execution_count": 13,
   "metadata": {
    "scrolled": false
   },
   "outputs": [
    {
     "data": {
      "text/plain": [
       "1    276\n",
       "9     24\n",
       "Name: age, dtype: int64"
      ]
     },
     "execution_count": 13,
     "metadata": {},
     "output_type": "execute_result"
    }
   ],
   "source": [
    "df.age.value_counts()"
   ]
  },
  {
   "cell_type": "markdown",
   "metadata": {},
   "source": [
    "Есть значение 9, которое отсутствует в документации. Скорее всего это ошибка документации. Сделаем предположение, что 9 - это молодые лошади."
   ]
  },
  {
   "cell_type": "markdown",
   "metadata": {},
   "source": [
    "# Атрибут rectalTemperature\n",
    "\n",
    "Есть 20% неизвестных значений. Заменим их на NaN, чтобы они не влияли на показатели.\n",
    "Поменяем тип на числовой."
   ]
  },
  {
   "cell_type": "code",
   "execution_count": 104,
   "metadata": {},
   "outputs": [
    {
     "data": {
      "text/plain": [
       "0.2"
      ]
     },
     "execution_count": 104,
     "metadata": {},
     "output_type": "execute_result"
    }
   ],
   "source": [
    "df[df.rectalTemperature == '?'].rectalTemperature.count()/df.rectalTemperature.count()"
   ]
  },
  {
   "cell_type": "code",
   "execution_count": 105,
   "metadata": {},
   "outputs": [],
   "source": [
    "df.loc[df.rectalTemperature == '?', 'rectalTemperature'] = np.nan\n",
    "df.rectalTemperature = df.rectalTemperature.astype(float)"
   ]
  },
  {
   "cell_type": "code",
   "execution_count": 106,
   "metadata": {
    "scrolled": true
   },
   "outputs": [
    {
     "data": {
      "text/plain": [
       "count    240.000000\n",
       "mean      38.167917\n",
       "std        0.732289\n",
       "min       35.400000\n",
       "25%       37.800000\n",
       "50%       38.200000\n",
       "75%       38.500000\n",
       "max       40.800000\n",
       "Name: rectalTemperature, dtype: float64"
      ]
     },
     "execution_count": 106,
     "metadata": {},
     "output_type": "execute_result"
    }
   ],
   "source": [
    "df.rectalTemperature.describe()"
   ]
  },
  {
   "cell_type": "markdown",
   "metadata": {},
   "source": [
    "Визуализируем показатель:"
   ]
  },
  {
   "cell_type": "code",
   "execution_count": 85,
   "metadata": {
    "scrolled": false
   },
   "outputs": [
    {
     "data": {
      "text/plain": [
       "<matplotlib.axes._subplots.AxesSubplot at 0x7fb77a189790>"
      ]
     },
     "execution_count": 85,
     "metadata": {},
     "output_type": "execute_result"
    },
    {
     "data": {
      "image/png": "[encoded data removed]",
      "text/plain": [
       "<Figure size 432x288 with 1 Axes>"
      ]
     },
     "metadata": {
      "needs_background": "light"
     },
     "output_type": "display_data"
    }
   ],
   "source": [
    "df.rectalTemperature.plot(kind='hist', bins=20)"
   ]
  },
  {
   "cell_type": "markdown",
   "metadata": {},
   "source": [
    "Распределение выглядит нормальным"
   ]
  },
  {
   "cell_type": "code",
   "execution_count": 86,
   "metadata": {
    "scrolled": true
   },
   "outputs": [
    {
     "data": {
      "text/plain": [
       "<matplotlib.axes._subplots.AxesSubplot at 0x7fb77a2f3890>"
      ]
     },
     "execution_count": 86,
     "metadata": {},
     "output_type": "execute_result"
    },
    {
     "data": {
      "image/png": "[encoded data removed]",
      "text/plain": [
       "<Figure size 432x288 with 1 Axes>"
      ]
     },
     "metadata": {
      "needs_background": "light"
     },
     "output_type": "display_data"
    }
   ],
   "source": [
    "df.rectalTemperature.plot(kind='box')"
   ]
  },
  {
   "cell_type": "markdown",
   "metadata": {},
   "source": [
    "Есть выбросы с низкой и высокой температурой. Проверим кто это:"
   ]
  },
  {
   "cell_type": "code",
   "execution_count": 92,
   "metadata": {
    "scrolled": true
   },
   "outputs": [
    {
     "data": {
      "text/html": [
       "<div>\n",
       "<style scoped>\n",
       "    .dataframe tbody tr th:only-of-type {\n",
       "        vertical-align: middle;\n",
       "    }\n",
       "\n",
       "    .dataframe tbody tr th {\n",
       "        vertical-align: top;\n",
       "    }\n",
       "\n",
       "    .dataframe thead th {\n",
       "        text-align: right;\n",
       "    }\n",
       "</style>\n",
       "<table border=\"1\" class=\"dataframe\">\n",
       "  <thead>\n",
       "    <tr style=\"text-align: right;\">\n",
       "      <th></th>\n",
       "      <th>surgery</th>\n",
       "      <th>age</th>\n",
       "      <th>hospitalNumber</th>\n",
       "      <th>rectalTemperature</th>\n",
       "      <th>pulse</th>\n",
       "      <th>respiratoryRate</th>\n",
       "      <th>temperatureExtremities</th>\n",
       "      <th>peripheralPulse</th>\n",
       "      <th>mucousMembranes</th>\n",
       "      <th>capillaryRefillTime</th>\n",
       "      <th>...</th>\n",
       "      <th>packedCellVolume</th>\n",
       "      <th>totalProtein</th>\n",
       "      <th>abdominocentesisAppearance</th>\n",
       "      <th>abdomcentesisTotalProtein</th>\n",
       "      <th>outcome</th>\n",
       "      <th>surgicalLesion</th>\n",
       "      <th>typeLesion1</th>\n",
       "      <th>typeLesion2</th>\n",
       "      <th>typeLesion3</th>\n",
       "      <th>cp_data</th>\n",
       "    </tr>\n",
       "  </thead>\n",
       "  <tbody>\n",
       "    <tr>\n",
       "      <th>20</th>\n",
       "      <td>1</td>\n",
       "      <td>1</td>\n",
       "      <td>530157</td>\n",
       "      <td>39.9</td>\n",
       "      <td>72.0</td>\n",
       "      <td>60</td>\n",
       "      <td>1</td>\n",
       "      <td>1</td>\n",
       "      <td>5</td>\n",
       "      <td>2</td>\n",
       "      <td>...</td>\n",
       "      <td>46.00</td>\n",
       "      <td>6.10</td>\n",
       "      <td>2</td>\n",
       "      <td>?</td>\n",
       "      <td>1</td>\n",
       "      <td>1</td>\n",
       "      <td>2111</td>\n",
       "      <td>0</td>\n",
       "      <td>0</td>\n",
       "      <td>2</td>\n",
       "    </tr>\n",
       "    <tr>\n",
       "      <th>44</th>\n",
       "      <td>1</td>\n",
       "      <td>1</td>\n",
       "      <td>535407</td>\n",
       "      <td>35.4</td>\n",
       "      <td>140.0</td>\n",
       "      <td>24</td>\n",
       "      <td>3</td>\n",
       "      <td>3</td>\n",
       "      <td>4</td>\n",
       "      <td>2</td>\n",
       "      <td>...</td>\n",
       "      <td>57</td>\n",
       "      <td>69</td>\n",
       "      <td>3</td>\n",
       "      <td>2</td>\n",
       "      <td>3</td>\n",
       "      <td>1</td>\n",
       "      <td>3205</td>\n",
       "      <td>0</td>\n",
       "      <td>0</td>\n",
       "      <td>2</td>\n",
       "    </tr>\n",
       "    <tr>\n",
       "      <th>54</th>\n",
       "      <td>2</td>\n",
       "      <td>1</td>\n",
       "      <td>529461</td>\n",
       "      <td>40.3</td>\n",
       "      <td>114.0</td>\n",
       "      <td>36</td>\n",
       "      <td>3</td>\n",
       "      <td>3</td>\n",
       "      <td>1</td>\n",
       "      <td>2</td>\n",
       "      <td>...</td>\n",
       "      <td>57.00</td>\n",
       "      <td>8.10</td>\n",
       "      <td>3</td>\n",
       "      <td>4.50</td>\n",
       "      <td>3</td>\n",
       "      <td>1</td>\n",
       "      <td>7400</td>\n",
       "      <td>0</td>\n",
       "      <td>0</td>\n",
       "      <td>1</td>\n",
       "    </tr>\n",
       "    <tr>\n",
       "      <th>75</th>\n",
       "      <td>1</td>\n",
       "      <td>9</td>\n",
       "      <td>534092</td>\n",
       "      <td>39.7</td>\n",
       "      <td>100.0</td>\n",
       "      <td>?</td>\n",
       "      <td>3</td>\n",
       "      <td>3</td>\n",
       "      <td>5</td>\n",
       "      <td>2</td>\n",
       "      <td>...</td>\n",
       "      <td>48</td>\n",
       "      <td>57</td>\n",
       "      <td>2</td>\n",
       "      <td>2</td>\n",
       "      <td>3</td>\n",
       "      <td>1</td>\n",
       "      <td>1400</td>\n",
       "      <td>0</td>\n",
       "      <td>0</td>\n",
       "      <td>2</td>\n",
       "    </tr>\n",
       "    <tr>\n",
       "      <th>80</th>\n",
       "      <td>1</td>\n",
       "      <td>1</td>\n",
       "      <td>527518</td>\n",
       "      <td>36.4</td>\n",
       "      <td>98.0</td>\n",
       "      <td>35</td>\n",
       "      <td>3</td>\n",
       "      <td>3</td>\n",
       "      <td>4</td>\n",
       "      <td>1</td>\n",
       "      <td>...</td>\n",
       "      <td>47.00</td>\n",
       "      <td>6.40</td>\n",
       "      <td>3</td>\n",
       "      <td>3.60</td>\n",
       "      <td>2</td>\n",
       "      <td>1</td>\n",
       "      <td>2205</td>\n",
       "      <td>0</td>\n",
       "      <td>0</td>\n",
       "      <td>1</td>\n",
       "    </tr>\n",
       "    <tr>\n",
       "      <th>91</th>\n",
       "      <td>2</td>\n",
       "      <td>1</td>\n",
       "      <td>529461</td>\n",
       "      <td>40.3</td>\n",
       "      <td>114.0</td>\n",
       "      <td>36</td>\n",
       "      <td>3</td>\n",
       "      <td>3</td>\n",
       "      <td>1</td>\n",
       "      <td>2</td>\n",
       "      <td>...</td>\n",
       "      <td>57.00</td>\n",
       "      <td>8.10</td>\n",
       "      <td>3</td>\n",
       "      <td>4.50</td>\n",
       "      <td>2</td>\n",
       "      <td>1</td>\n",
       "      <td>3205</td>\n",
       "      <td>0</td>\n",
       "      <td>0</td>\n",
       "      <td>1</td>\n",
       "    </tr>\n",
       "    <tr>\n",
       "      <th>99</th>\n",
       "      <td>2</td>\n",
       "      <td>1</td>\n",
       "      <td>530002</td>\n",
       "      <td>39.6</td>\n",
       "      <td>108.0</td>\n",
       "      <td>51</td>\n",
       "      <td>3</td>\n",
       "      <td>3</td>\n",
       "      <td>6</td>\n",
       "      <td>2</td>\n",
       "      <td>...</td>\n",
       "      <td>59.00</td>\n",
       "      <td>8.00</td>\n",
       "      <td>2</td>\n",
       "      <td>2.60</td>\n",
       "      <td>1</td>\n",
       "      <td>2</td>\n",
       "      <td>4300</td>\n",
       "      <td>0</td>\n",
       "      <td>0</td>\n",
       "      <td>1</td>\n",
       "    </tr>\n",
       "    <tr>\n",
       "      <th>113</th>\n",
       "      <td>1</td>\n",
       "      <td>1</td>\n",
       "      <td>527933</td>\n",
       "      <td>36.8</td>\n",
       "      <td>60.0</td>\n",
       "      <td>28</td>\n",
       "      <td>?</td>\n",
       "      <td>?</td>\n",
       "      <td>?</td>\n",
       "      <td>?</td>\n",
       "      <td>...</td>\n",
       "      <td>?</td>\n",
       "      <td>?</td>\n",
       "      <td>?</td>\n",
       "      <td>10.00</td>\n",
       "      <td>2</td>\n",
       "      <td>1</td>\n",
       "      <td>3205</td>\n",
       "      <td>0</td>\n",
       "      <td>0</td>\n",
       "      <td>1</td>\n",
       "    </tr>\n",
       "    <tr>\n",
       "      <th>118</th>\n",
       "      <td>1</td>\n",
       "      <td>1</td>\n",
       "      <td>533983</td>\n",
       "      <td>36.5</td>\n",
       "      <td>78.0</td>\n",
       "      <td>30</td>\n",
       "      <td>1</td>\n",
       "      <td>?</td>\n",
       "      <td>1</td>\n",
       "      <td>1</td>\n",
       "      <td>...</td>\n",
       "      <td>34</td>\n",
       "      <td>75</td>\n",
       "      <td>2</td>\n",
       "      <td>1</td>\n",
       "      <td>1</td>\n",
       "      <td>1</td>\n",
       "      <td>3112</td>\n",
       "      <td>6112</td>\n",
       "      <td>0</td>\n",
       "      <td>2</td>\n",
       "    </tr>\n",
       "    <tr>\n",
       "      <th>141</th>\n",
       "      <td>2</td>\n",
       "      <td>1</td>\n",
       "      <td>522979</td>\n",
       "      <td>36.0</td>\n",
       "      <td>42.0</td>\n",
       "      <td>30</td>\n",
       "      <td>?</td>\n",
       "      <td>?</td>\n",
       "      <td>5</td>\n",
       "      <td>1</td>\n",
       "      <td>...</td>\n",
       "      <td>64.00</td>\n",
       "      <td>6.80</td>\n",
       "      <td>?</td>\n",
       "      <td>?</td>\n",
       "      <td>2</td>\n",
       "      <td>2</td>\n",
       "      <td>1400</td>\n",
       "      <td>0</td>\n",
       "      <td>0</td>\n",
       "      <td>2</td>\n",
       "    </tr>\n",
       "    <tr>\n",
       "      <th>238</th>\n",
       "      <td>2</td>\n",
       "      <td>1</td>\n",
       "      <td>528702</td>\n",
       "      <td>36.1</td>\n",
       "      <td>88.0</td>\n",
       "      <td>?</td>\n",
       "      <td>3</td>\n",
       "      <td>3</td>\n",
       "      <td>3</td>\n",
       "      <td>1</td>\n",
       "      <td>...</td>\n",
       "      <td>45.00</td>\n",
       "      <td>7.00</td>\n",
       "      <td>3</td>\n",
       "      <td>4.80</td>\n",
       "      <td>3</td>\n",
       "      <td>1</td>\n",
       "      <td>2209</td>\n",
       "      <td>0</td>\n",
       "      <td>0</td>\n",
       "      <td>1</td>\n",
       "    </tr>\n",
       "    <tr>\n",
       "      <th>251</th>\n",
       "      <td>2</td>\n",
       "      <td>1</td>\n",
       "      <td>527940</td>\n",
       "      <td>36.6</td>\n",
       "      <td>42.0</td>\n",
       "      <td>18</td>\n",
       "      <td>3</td>\n",
       "      <td>3</td>\n",
       "      <td>2</td>\n",
       "      <td>1</td>\n",
       "      <td>...</td>\n",
       "      <td>52.00</td>\n",
       "      <td>7.10</td>\n",
       "      <td>?</td>\n",
       "      <td>?</td>\n",
       "      <td>2</td>\n",
       "      <td>1</td>\n",
       "      <td>5111</td>\n",
       "      <td>0</td>\n",
       "      <td>0</td>\n",
       "      <td>2</td>\n",
       "    </tr>\n",
       "    <tr>\n",
       "      <th>259</th>\n",
       "      <td>1</td>\n",
       "      <td>1</td>\n",
       "      <td>527734</td>\n",
       "      <td>40.8</td>\n",
       "      <td>72.0</td>\n",
       "      <td>42</td>\n",
       "      <td>3</td>\n",
       "      <td>3</td>\n",
       "      <td>1</td>\n",
       "      <td>1</td>\n",
       "      <td>...</td>\n",
       "      <td>54.00</td>\n",
       "      <td>7.40</td>\n",
       "      <td>3</td>\n",
       "      <td>?</td>\n",
       "      <td>2</td>\n",
       "      <td>1</td>\n",
       "      <td>11400</td>\n",
       "      <td>0</td>\n",
       "      <td>0</td>\n",
       "      <td>1</td>\n",
       "    </tr>\n",
       "    <tr>\n",
       "      <th>277</th>\n",
       "      <td>2</td>\n",
       "      <td>1</td>\n",
       "      <td>528620</td>\n",
       "      <td>36.9</td>\n",
       "      <td>50.0</td>\n",
       "      <td>40</td>\n",
       "      <td>2</td>\n",
       "      <td>3</td>\n",
       "      <td>3</td>\n",
       "      <td>1</td>\n",
       "      <td>...</td>\n",
       "      <td>37.50</td>\n",
       "      <td>6.50</td>\n",
       "      <td>?</td>\n",
       "      <td>?</td>\n",
       "      <td>1</td>\n",
       "      <td>2</td>\n",
       "      <td>3111</td>\n",
       "      <td>0</td>\n",
       "      <td>0</td>\n",
       "      <td>2</td>\n",
       "    </tr>\n",
       "    <tr>\n",
       "      <th>281</th>\n",
       "      <td>2</td>\n",
       "      <td>1</td>\n",
       "      <td>530624</td>\n",
       "      <td>40.0</td>\n",
       "      <td>78.0</td>\n",
       "      <td>?</td>\n",
       "      <td>3</td>\n",
       "      <td>3</td>\n",
       "      <td>5</td>\n",
       "      <td>1</td>\n",
       "      <td>...</td>\n",
       "      <td>66.00</td>\n",
       "      <td>6.50</td>\n",
       "      <td>?</td>\n",
       "      <td>?</td>\n",
       "      <td>2</td>\n",
       "      <td>1</td>\n",
       "      <td>8400</td>\n",
       "      <td>0</td>\n",
       "      <td>0</td>\n",
       "      <td>1</td>\n",
       "    </tr>\n",
       "    <tr>\n",
       "      <th>298</th>\n",
       "      <td>1</td>\n",
       "      <td>1</td>\n",
       "      <td>530612</td>\n",
       "      <td>36.5</td>\n",
       "      <td>100.0</td>\n",
       "      <td>24</td>\n",
       "      <td>3</td>\n",
       "      <td>3</td>\n",
       "      <td>3</td>\n",
       "      <td>1</td>\n",
       "      <td>...</td>\n",
       "      <td>50.00</td>\n",
       "      <td>6.00</td>\n",
       "      <td>3</td>\n",
       "      <td>3.40</td>\n",
       "      <td>1</td>\n",
       "      <td>1</td>\n",
       "      <td>2208</td>\n",
       "      <td>0</td>\n",
       "      <td>0</td>\n",
       "      <td>1</td>\n",
       "    </tr>\n",
       "  </tbody>\n",
       "</table>\n",
       "<p>16 rows × 28 columns</p>\n",
       "</div>"
      ],
      "text/plain": [
       "    surgery  age  hospitalNumber  rectalTemperature  pulse respiratoryRate  \\\n",
       "20        1    1          530157               39.9   72.0              60   \n",
       "44        1    1          535407               35.4  140.0              24   \n",
       "54        2    1          529461               40.3  114.0              36   \n",
       "75        1    9          534092               39.7  100.0               ?   \n",
       "80        1    1          527518               36.4   98.0              35   \n",
       "91        2    1          529461               40.3  114.0              36   \n",
       "99        2    1          530002               39.6  108.0              51   \n",
       "113       1    1          527933               36.8   60.0              28   \n",
       "118       1    1          533983               36.5   78.0              30   \n",
       "141       2    1          522979               36.0   42.0              30   \n",
       "238       2    1          528702               36.1   88.0               ?   \n",
       "251       2    1          527940               36.6   42.0              18   \n",
       "259       1    1          527734               40.8   72.0              42   \n",
       "277       2    1          528620               36.9   50.0              40   \n",
       "281       2    1          530624               40.0   78.0               ?   \n",
       "298       1    1          530612               36.5  100.0              24   \n",
       "\n",
       "    temperatureExtremities peripheralPulse mucousMembranes  \\\n",
       "20                       1               1               5   \n",
       "44                       3               3               4   \n",
       "54                       3               3               1   \n",
       "75                       3               3               5   \n",
       "80                       3               3               4   \n",
       "91                       3               3               1   \n",
       "99                       3               3               6   \n",
       "113                      ?               ?               ?   \n",
       "118                      1               ?               1   \n",
       "141                      ?               ?               5   \n",
       "238                      3               3               3   \n",
       "251                      3               3               2   \n",
       "259                      3               3               1   \n",
       "277                      2               3               3   \n",
       "281                      3               3               5   \n",
       "298                      3               3               3   \n",
       "\n",
       "    capillaryRefillTime  ... packedCellVolume totalProtein  \\\n",
       "20                    2  ...            46.00         6.10   \n",
       "44                    2  ...               57           69   \n",
       "54                    2  ...            57.00         8.10   \n",
       "75                    2  ...               48           57   \n",
       "80                    1  ...            47.00         6.40   \n",
       "91                    2  ...            57.00         8.10   \n",
       "99                    2  ...            59.00         8.00   \n",
       "113                   ?  ...                ?            ?   \n",
       "118                   1  ...               34           75   \n",
       "141                   1  ...            64.00         6.80   \n",
       "238                   1  ...            45.00         7.00   \n",
       "251                   1  ...            52.00         7.10   \n",
       "259                   1  ...            54.00         7.40   \n",
       "277                   1  ...            37.50         6.50   \n",
       "281                   1  ...            66.00         6.50   \n",
       "298                   1  ...            50.00         6.00   \n",
       "\n",
       "    abdominocentesisAppearance abdomcentesisTotalProtein outcome  \\\n",
       "20                           2                         ?       1   \n",
       "44                           3                         2       3   \n",
       "54                           3                      4.50       3   \n",
       "75                           2                         2       3   \n",
       "80                           3                      3.60       2   \n",
       "91                           3                      4.50       2   \n",
       "99                           2                      2.60       1   \n",
       "113                          ?                     10.00       2   \n",
       "118                          2                         1       1   \n",
       "141                          ?                         ?       2   \n",
       "238                          3                      4.80       3   \n",
       "251                          ?                         ?       2   \n",
       "259                          3                         ?       2   \n",
       "277                          ?                         ?       1   \n",
       "281                          ?                         ?       2   \n",
       "298                          3                      3.40       1   \n",
       "\n",
       "    surgicalLesion typeLesion1 typeLesion2 typeLesion3 cp_data  \n",
       "20               1        2111           0           0       2  \n",
       "44               1        3205           0           0       2  \n",
       "54               1        7400           0           0       1  \n",
       "75               1        1400           0           0       2  \n",
       "80               1        2205           0           0       1  \n",
       "91               1        3205           0           0       1  \n",
       "99               2        4300           0           0       1  \n",
       "113              1        3205           0           0       1  \n",
       "118              1        3112        6112           0       2  \n",
       "141              2        1400           0           0       2  \n",
       "238              1        2209           0           0       1  \n",
       "251              1        5111           0           0       2  \n",
       "259              1       11400           0           0       1  \n",
       "277              2        3111           0           0       2  \n",
       "281              1        8400           0           0       1  \n",
       "298              1        2208           0           0       1  \n",
       "\n",
       "[16 rows x 28 columns]"
      ]
     },
     "execution_count": 92,
     "metadata": {},
     "output_type": "execute_result"
    }
   ],
   "source": [
    "df[(df.rectalTemperature < 37) | (df.rectalTemperature > 39.5)]"
   ]
  },
  {
   "cell_type": "markdown",
   "metadata": {},
   "source": [
    "Большинство из этих лошадей умерли или были усыплены. Считаем, что эти выбросы нормальные."
   ]
  },
  {
   "cell_type": "markdown",
   "metadata": {},
   "source": [
    "# Атрибут pulse\n",
    "Есть 2% неизвестных значения. Заменим их на NaN, чтобы они не влияли на показатели. Поменяем тип на числовой."
   ]
  },
  {
   "cell_type": "code",
   "execution_count": 107,
   "metadata": {},
   "outputs": [
    {
     "data": {
      "text/plain": [
       "0.02"
      ]
     },
     "execution_count": 107,
     "metadata": {},
     "output_type": "execute_result"
    }
   ],
   "source": [
    "df[df.pulse == '?'].rectalTemperature.count()/df.pulse.count()"
   ]
  },
  {
   "cell_type": "code",
   "execution_count": 108,
   "metadata": {},
   "outputs": [],
   "source": [
    "df.loc[df.pulse == '?', 'pulse'] = np.nan\n",
    "df.pulse = df.pulse.astype(float)"
   ]
  },
  {
   "cell_type": "code",
   "execution_count": 109,
   "metadata": {
    "scrolled": false
   },
   "outputs": [
    {
     "data": {
      "text/plain": [
       "count    276.000000\n",
       "mean      71.913043\n",
       "std       28.630557\n",
       "min       30.000000\n",
       "25%       48.000000\n",
       "50%       64.000000\n",
       "75%       88.000000\n",
       "max      184.000000\n",
       "Name: pulse, dtype: float64"
      ]
     },
     "execution_count": 109,
     "metadata": {},
     "output_type": "execute_result"
    }
   ],
   "source": [
    "df.pulse.describe()"
   ]
  },
  {
   "cell_type": "markdown",
   "metadata": {},
   "source": [
    "Есть очень высокие значения. Нужно их проверить."
   ]
  },
  {
   "cell_type": "code",
   "execution_count": 74,
   "metadata": {
    "scrolled": false
   },
   "outputs": [
    {
     "data": {
      "text/plain": [
       "<matplotlib.axes._subplots.AxesSubplot at 0x7fb779a00d90>"
      ]
     },
     "execution_count": 74,
     "metadata": {},
     "output_type": "execute_result"
    },
    {
     "data": {
      "image/png": "[encoded data removed]",
      "text/plain": [
       "<Figure size 432x288 with 1 Axes>"
      ]
     },
     "metadata": {
      "needs_background": "light"
     },
     "output_type": "display_data"
    }
   ],
   "source": [
    "df.pulse.plot(kind='hist', bins=30)"
   ]
  },
  {
   "cell_type": "code",
   "execution_count": 75,
   "metadata": {},
   "outputs": [
    {
     "data": {
      "text/plain": [
       "<matplotlib.axes._subplots.AxesSubplot at 0x7fb779cadc90>"
      ]
     },
     "execution_count": 75,
     "metadata": {},
     "output_type": "execute_result"
    },
    {
     "data": {
      "image/png": "[encoded data removed]",
      "text/plain": [
       "<Figure size 432x288 with 1 Axes>"
      ]
     },
     "metadata": {
      "needs_background": "light"
     },
     "output_type": "display_data"
    }
   ],
   "source": [
    "df.pulse.plot(kind='box')"
   ]
  },
  {
   "cell_type": "markdown",
   "metadata": {},
   "source": [
    "Пульс больше 140 выглядит как выброс. Проверим у кого такие пульсы."
   ]
  },
  {
   "cell_type": "code",
   "execution_count": 76,
   "metadata": {
    "scrolled": false
   },
   "outputs": [
    {
     "data": {
      "text/html": [
       "<div>\n",
       "<style scoped>\n",
       "    .dataframe tbody tr th:only-of-type {\n",
       "        vertical-align: middle;\n",
       "    }\n",
       "\n",
       "    .dataframe tbody tr th {\n",
       "        vertical-align: top;\n",
       "    }\n",
       "\n",
       "    .dataframe thead th {\n",
       "        text-align: right;\n",
       "    }\n",
       "</style>\n",
       "<table border=\"1\" class=\"dataframe\">\n",
       "  <thead>\n",
       "    <tr style=\"text-align: right;\">\n",
       "      <th></th>\n",
       "      <th>surgery</th>\n",
       "      <th>age</th>\n",
       "      <th>hospitalNumber</th>\n",
       "      <th>rectalTemperature</th>\n",
       "      <th>pulse</th>\n",
       "      <th>respiratoryRate</th>\n",
       "      <th>temperatureExtremities</th>\n",
       "      <th>peripheralPulse</th>\n",
       "      <th>mucousMembranes</th>\n",
       "      <th>capillaryRefillTime</th>\n",
       "      <th>...</th>\n",
       "      <th>packedCellVolume</th>\n",
       "      <th>totalProtein</th>\n",
       "      <th>abdominocentesisAppearance</th>\n",
       "      <th>abdomcentesisTotalProtein</th>\n",
       "      <th>outcome</th>\n",
       "      <th>surgicalLesion</th>\n",
       "      <th>typeLesion1</th>\n",
       "      <th>typeLesion2</th>\n",
       "      <th>typeLesion3</th>\n",
       "      <th>cp_data</th>\n",
       "    </tr>\n",
       "  </thead>\n",
       "  <tbody>\n",
       "    <tr>\n",
       "      <th>3</th>\n",
       "      <td>1</td>\n",
       "      <td>9</td>\n",
       "      <td>5290409</td>\n",
       "      <td>39.10</td>\n",
       "      <td>164.0</td>\n",
       "      <td>84</td>\n",
       "      <td>4</td>\n",
       "      <td>1</td>\n",
       "      <td>6</td>\n",
       "      <td>2</td>\n",
       "      <td>...</td>\n",
       "      <td>48.00</td>\n",
       "      <td>7.20</td>\n",
       "      <td>3</td>\n",
       "      <td>5.30</td>\n",
       "      <td>2</td>\n",
       "      <td>1</td>\n",
       "      <td>2208</td>\n",
       "      <td>0</td>\n",
       "      <td>0</td>\n",
       "      <td>1</td>\n",
       "    </tr>\n",
       "    <tr>\n",
       "      <th>39</th>\n",
       "      <td>1</td>\n",
       "      <td>9</td>\n",
       "      <td>5277409</td>\n",
       "      <td>39.20</td>\n",
       "      <td>146.0</td>\n",
       "      <td>96</td>\n",
       "      <td>?</td>\n",
       "      <td>?</td>\n",
       "      <td>?</td>\n",
       "      <td>?</td>\n",
       "      <td>...</td>\n",
       "      <td>?</td>\n",
       "      <td>?</td>\n",
       "      <td>?</td>\n",
       "      <td>?</td>\n",
       "      <td>2</td>\n",
       "      <td>1</td>\n",
       "      <td>2113</td>\n",
       "      <td>0</td>\n",
       "      <td>0</td>\n",
       "      <td>2</td>\n",
       "    </tr>\n",
       "    <tr>\n",
       "      <th>41</th>\n",
       "      <td>2</td>\n",
       "      <td>9</td>\n",
       "      <td>5288249</td>\n",
       "      <td>39.00</td>\n",
       "      <td>150.0</td>\n",
       "      <td>72</td>\n",
       "      <td>?</td>\n",
       "      <td>?</td>\n",
       "      <td>?</td>\n",
       "      <td>?</td>\n",
       "      <td>...</td>\n",
       "      <td>47.00</td>\n",
       "      <td>8.50</td>\n",
       "      <td>?</td>\n",
       "      <td>0.10</td>\n",
       "      <td>1</td>\n",
       "      <td>1</td>\n",
       "      <td>9400</td>\n",
       "      <td>0</td>\n",
       "      <td>0</td>\n",
       "      <td>1</td>\n",
       "    </tr>\n",
       "    <tr>\n",
       "      <th>55</th>\n",
       "      <td>1</td>\n",
       "      <td>9</td>\n",
       "      <td>5282839</td>\n",
       "      <td>38.60</td>\n",
       "      <td>160.0</td>\n",
       "      <td>20</td>\n",
       "      <td>3</td>\n",
       "      <td>?</td>\n",
       "      <td>5</td>\n",
       "      <td>1</td>\n",
       "      <td>...</td>\n",
       "      <td>38.00</td>\n",
       "      <td>?</td>\n",
       "      <td>2</td>\n",
       "      <td>?</td>\n",
       "      <td>2</td>\n",
       "      <td>1</td>\n",
       "      <td>7111</td>\n",
       "      <td>0</td>\n",
       "      <td>0</td>\n",
       "      <td>1</td>\n",
       "    </tr>\n",
       "    <tr>\n",
       "      <th>255</th>\n",
       "      <td>1</td>\n",
       "      <td>9</td>\n",
       "      <td>5294539</td>\n",
       "      <td>38.80</td>\n",
       "      <td>184.0</td>\n",
       "      <td>84</td>\n",
       "      <td>1</td>\n",
       "      <td>?</td>\n",
       "      <td>1</td>\n",
       "      <td>1</td>\n",
       "      <td>...</td>\n",
       "      <td>33.00</td>\n",
       "      <td>3.30</td>\n",
       "      <td>?</td>\n",
       "      <td>?</td>\n",
       "      <td>2</td>\n",
       "      <td>1</td>\n",
       "      <td>7111</td>\n",
       "      <td>0</td>\n",
       "      <td>0</td>\n",
       "      <td>2</td>\n",
       "    </tr>\n",
       "    <tr>\n",
       "      <th>275</th>\n",
       "      <td>1</td>\n",
       "      <td>9</td>\n",
       "      <td>5297159</td>\n",
       "      <td>38.80</td>\n",
       "      <td>150.0</td>\n",
       "      <td>50</td>\n",
       "      <td>1</td>\n",
       "      <td>3</td>\n",
       "      <td>6</td>\n",
       "      <td>2</td>\n",
       "      <td>...</td>\n",
       "      <td>50.00</td>\n",
       "      <td>6.20</td>\n",
       "      <td>?</td>\n",
       "      <td>?</td>\n",
       "      <td>2</td>\n",
       "      <td>1</td>\n",
       "      <td>4207</td>\n",
       "      <td>0</td>\n",
       "      <td>0</td>\n",
       "      <td>2</td>\n",
       "    </tr>\n",
       "  </tbody>\n",
       "</table>\n",
       "<p>6 rows × 28 columns</p>\n",
       "</div>"
      ],
      "text/plain": [
       "    surgery  age  hospitalNumber rectalTemperature  pulse respiratoryRate  \\\n",
       "3         1    9         5290409             39.10  164.0              84   \n",
       "39        1    9         5277409             39.20  146.0              96   \n",
       "41        2    9         5288249             39.00  150.0              72   \n",
       "55        1    9         5282839             38.60  160.0              20   \n",
       "255       1    9         5294539             38.80  184.0              84   \n",
       "275       1    9         5297159             38.80  150.0              50   \n",
       "\n",
       "    temperatureExtremities peripheralPulse mucousMembranes  \\\n",
       "3                        4               1               6   \n",
       "39                       ?               ?               ?   \n",
       "41                       ?               ?               ?   \n",
       "55                       3               ?               5   \n",
       "255                      1               ?               1   \n",
       "275                      1               3               6   \n",
       "\n",
       "    capillaryRefillTime  ... packedCellVolume totalProtein  \\\n",
       "3                     2  ...            48.00         7.20   \n",
       "39                    ?  ...                ?            ?   \n",
       "41                    ?  ...            47.00         8.50   \n",
       "55                    1  ...            38.00            ?   \n",
       "255                   1  ...            33.00         3.30   \n",
       "275                   2  ...            50.00         6.20   \n",
       "\n",
       "    abdominocentesisAppearance abdomcentesisTotalProtein outcome  \\\n",
       "3                            3                      5.30       2   \n",
       "39                           ?                         ?       2   \n",
       "41                           ?                      0.10       1   \n",
       "55                           2                         ?       2   \n",
       "255                          ?                         ?       2   \n",
       "275                          ?                         ?       2   \n",
       "\n",
       "    surgicalLesion typeLesion1 typeLesion2 typeLesion3 cp_data  \n",
       "3                1        2208           0           0       1  \n",
       "39               1        2113           0           0       2  \n",
       "41               1        9400           0           0       1  \n",
       "55               1        7111           0           0       1  \n",
       "255              1        7111           0           0       2  \n",
       "275              1        4207           0           0       2  \n",
       "\n",
       "[6 rows x 28 columns]"
      ]
     },
     "execution_count": 76,
     "metadata": {},
     "output_type": "execute_result"
    }
   ],
   "source": [
    "df[df.pulse > 140]"
   ]
  },
  {
   "cell_type": "markdown",
   "metadata": {},
   "source": [
    "Это всё молодые лошади, большинство из которых в итоге умерли. Посмотрим статистику по молодым и старым лошадям раздельно."
   ]
  },
  {
   "cell_type": "code",
   "execution_count": 81,
   "metadata": {
    "scrolled": true
   },
   "outputs": [
    {
     "data": {
      "text/plain": [
       "<matplotlib.axes._subplots.AxesSubplot at 0x7fb77a022f50>"
      ]
     },
     "execution_count": 81,
     "metadata": {},
     "output_type": "execute_result"
    },
    {
     "data": {
      "image/png": "[encoded data removed]",
      "text/plain": [
       "<Figure size 432x288 with 1 Axes>"
      ]
     },
     "metadata": {
      "needs_background": "light"
     },
     "output_type": "display_data"
    }
   ],
   "source": [
    "df[df.age == 9].pulse.plot(kind='box')"
   ]
  },
  {
   "cell_type": "code",
   "execution_count": 82,
   "metadata": {
    "scrolled": true
   },
   "outputs": [
    {
     "data": {
      "text/plain": [
       "<matplotlib.axes._subplots.AxesSubplot at 0x7fb77a1238d0>"
      ]
     },
     "execution_count": 82,
     "metadata": {},
     "output_type": "execute_result"
    },
    {
     "data": {
      "image/png": "[encoded data removed]",
      "text/plain": [
       "<Figure size 432x288 with 1 Axes>"
      ]
     },
     "metadata": {
      "needs_background": "light"
     },
     "output_type": "display_data"
    }
   ],
   "source": [
    "df[df.age == 1].pulse.plot(kind='box')"
   ]
  },
  {
   "cell_type": "markdown",
   "metadata": {},
   "source": [
    "Действительно у старых лошадей пульс в целом ниже. Так что высокие пульсы считаем нормальными выбросами."
   ]
  },
  {
   "cell_type": "markdown",
   "metadata": {},
   "source": [
    "# Атрибут outcome"
   ]
  },
  {
   "cell_type": "code",
   "execution_count": 94,
   "metadata": {
    "scrolled": true
   },
   "outputs": [
    {
     "data": {
      "text/plain": [
       "1    178\n",
       "2     77\n",
       "3     44\n",
       "?      1\n",
       "Name: outcome, dtype: int64"
      ]
     },
     "execution_count": 94,
     "metadata": {},
     "output_type": "execute_result"
    }
   ],
   "source": [
    "df.outcome.value_counts()"
   ]
  },
  {
   "cell_type": "markdown",
   "metadata": {},
   "source": [
    "Есть одно неизвестное значение. Пропустим его, т.к. сильно не повлияет на результат."
   ]
  }
 ],
 "metadata": {
  "kernelspec": {
   "display_name": "Python 3",
   "language": "python",
   "name": "python3"
  },
  "language_info": {
   "codemirror_mode": {
    "name": "ipython",
    "version": 3
   },
   "file_extension": ".py",
   "mimetype": "text/x-python",
   "name": "python",
   "nbconvert_exporter": "python",
   "pygments_lexer": "ipython3",
   "version": "3.7.6"
  }
 },
 "nbformat": 4,
 "nbformat_minor": 4
}
