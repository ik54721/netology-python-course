{
 "cells": [
  {
   "cell_type": "markdown",
   "metadata": {},
   "source": [
    "# Работа с файловой системой и модули"
   ]
  },
  {
   "cell_type": "markdown",
   "metadata": {},
   "source": [
    "1. Переведите содержимое файла purchase_log.txt в словарь purchases вида:\n",
    "{‘1840e0b9d4’: ‘Продукты’, …}\n",
    "2. Для каждого user_id в файле visit_log.csv определите третий столбец с категорией покупки (если покупка была, сам файл visit_log.csv изменять не надо). Запишите в файл funnel.csv визиты из файла visit_log.csv, в которых были покупки с указанием категории.\n",
    " Учтите условия на данные:\n",
    "содержимое purchase_log.txt помещается в оперативную память компьютера\n",
    "содержимое visit_log.csv - нет; используйте только построчную обработку этого файла"
   ]
  },
  {
   "cell_type": "code",
   "execution_count": 82,
   "metadata": {},
   "outputs": [],
   "source": [
    "import json\n",
    "\n",
    "f = open('purchase_log.txt', 'r')\n",
    "purchase_log = f.readlines()\n",
    "f.close()\n",
    "\n",
    "purchases = {}\n",
    "\n",
    "for item in purchase_log[1:]:\n",
    "    \n",
    "    user_id, category = json.loads(item).values()\n",
    "    \n",
    "    if purchases.get(user_id) is not None:\n",
    "        purchases[user_id].add(category)\n",
    "    else:\n",
    "        purchases[user_id] = {category}\n",
    "    \n",
    "        \n",
    "i = 0\n",
    "with open('visit_log.csv', 'r') as f2:\n",
    "    with open('funnel.csv', 'w') as output_f:\n",
    "        for line in f2:\n",
    "            \n",
    "            line_list = line.strip().split(',')\n",
    "            \n",
    "            if i == 0:\n",
    "                output_f.write(line.strip() + ',category\\n')\n",
    "            \n",
    "            if purchases.get(line_list[0]) is not None:\n",
    "                output_f.write(line.strip() + ',' + ';'.join(purchases.get(line_list[0])) + '\\n')\n",
    "\n",
    "            i += 1"
   ]
  }
 ],
 "metadata": {
  "kernelspec": {
   "display_name": "Python 3",
   "language": "python",
   "name": "python3"
  },
  "language_info": {
   "codemirror_mode": {
    "name": "ipython",
    "version": 3
   },
   "file_extension": ".py",
   "mimetype": "text/x-python",
   "name": "python",
   "nbconvert_exporter": "python",
   "pygments_lexer": "ipython3",
   "version": "3.7.6"
  }
 },
 "nbformat": 4,
 "nbformat_minor": 4
}
