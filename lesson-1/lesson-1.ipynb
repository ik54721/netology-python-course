{
 "cells": [
  {
   "cell_type": "markdown",
   "metadata": {},
   "source": [
    "# Задание 1"
   ]
  },
  {
   "cell_type": "code",
   "execution_count": 22,
   "metadata": {},
   "outputs": [
    {
     "name": "stdout",
     "output_type": "stream",
     "text": [
      "Фраза 2 длиннее фразы 1\n"
     ]
    }
   ],
   "source": [
    "phrase_1 = '640Кб должно хватить для любых задач. Билл Гейтс (по легенде)'\n",
    "phrase_2 = 'Насколько проще было бы писать программы, если бы не заказчики'\n",
    "\n",
    "if len(phrase_1) > len(phrase_2):\n",
    "    print('Фраза 1 длиннее фразы 2')\n",
    "elif len(phrase_2) > len(phrase_1):\n",
    "    print('Фраза 2 длиннее фразы 1')\n",
    "else:\n",
    "    print('Фразы равной длины')"
   ]
  },
  {
   "cell_type": "markdown",
   "metadata": {},
   "source": [
    "# Задание 2"
   ]
  },
  {
   "cell_type": "code",
   "execution_count": 28,
   "metadata": {},
   "outputs": [
    {
     "name": "stdout",
     "output_type": "stream",
     "text": [
      "Високосный год\n"
     ]
    }
   ],
   "source": [
    "year = 2000\n",
    "\n",
    "if year % 4 != 0 or (year % 100 == 0 and year % 400 != 0):\n",
    "    print(\"Обычный год\")\n",
    "else:\n",
    "    print(\"Високосный год\")"
   ]
  },
  {
   "cell_type": "markdown",
   "metadata": {},
   "source": [
    "# Задание 3"
   ]
  },
  {
   "cell_type": "code",
   "execution_count": 47,
   "metadata": {
    "scrolled": true
   },
   "outputs": [
    {
     "name": "stdout",
     "output_type": "stream",
     "text": [
      "Введите день: 17\n",
      "Введите месяц: Сентябрь\n",
      "Ваш знак зодиака:  Дева\n"
     ]
    }
   ],
   "source": [
    "day = int(input('Введите день: '))\n",
    "month = input('Введите месяц: ')\n",
    "\n",
    "if month == 'Декабрь':\n",
    "    astro_sign = 'Стрелец' if (day < 22) else 'Козерог'\n",
    "elif month == 'Январь':\n",
    "    astro_sign = 'Козерог' if (day < 20) else 'Водолей'\n",
    "elif month == 'Февраль':\n",
    "    astro_sign = 'Водолей' if (day < 19) else 'Рыбы'\n",
    "elif month == 'Март':\n",
    "    astro_sign = 'Рыбы' if (day < 21) else 'Овен'\n",
    "elif month == 'Апрель':\n",
    "    astro_sign = 'Овен' if (day < 20) else 'Телец'\n",
    "elif month == 'Май':\n",
    "    astro_sign = 'Телец' if (day < 21) else 'Близнецы'\n",
    "elif month == 'Июнь':\n",
    "    astro_sign = 'Близнецы' if (day < 21) else 'Рак'\n",
    "elif month == 'Июль':\n",
    "    astro_sign = 'Рак' if (day < 23) else 'Лев'\n",
    "elif month == 'Август':\n",
    "    astro_sign = 'Лев' if (day < 23) else 'Дева'\n",
    "elif month == 'Сентябрь':\n",
    "    astro_sign = 'Дева' if (day < 23) else 'Весы'\n",
    "elif month == 'Октябрь':\n",
    "    astro_sign = 'Весы' if (day < 23) else 'Скорпион'\n",
    "elif month == 'Декабрь':\n",
    "    astro_sign = 'Скорпион' if (day < 22) else 'Стрелец'\n",
    "\n",
    "print('Ваш знак зодиака: ', astro_sign)"
   ]
  },
  {
   "cell_type": "markdown",
   "metadata": {},
   "source": [
    "# Задание 4"
   ]
  },
  {
   "cell_type": "code",
   "execution_count": 36,
   "metadata": {},
   "outputs": [
    {
     "name": "stdout",
     "output_type": "stream",
     "text": [
      "Упаковка для лыж\n"
     ]
    }
   ],
   "source": [
    "width = 10\n",
    "length = 205\n",
    "height = 5\n",
    "\n",
    "if width < 15 and length < 15 and height < 15:\n",
    "    print(\"Коробка №1\")\n",
    "elif 15 < width < 50 or 15 < length < 50 or 15 < height < 50:\n",
    "    print(\"Коробка №2\")\n",
    "elif length > 200:\n",
    "    print(\"Упаковка для лыж\")\n",
    "else:\n",
    "    print(\"Стандартная коробка №3\")"
   ]
  },
  {
   "cell_type": "markdown",
   "metadata": {},
   "source": [
    "# Задание 5"
   ]
  },
  {
   "cell_type": "code",
   "execution_count": 46,
   "metadata": {},
   "outputs": [
    {
     "name": "stdout",
     "output_type": "stream",
     "text": [
      "Счастливый билет\n"
     ]
    }
   ],
   "source": [
    "number = 123006\n",
    "\n",
    "number_str = str(number)\n",
    "if int(number_str[0]) + int(number_str[1]) + int(number_str[2]) == int(number_str[3]) + int(number_str[4]) + int(number_str[5]):\n",
    "    print(\"Счастливый билет\")\n",
    "else:\n",
    "    print(\"Несчастливый билет\")"
   ]
  },
  {
   "cell_type": "markdown",
   "metadata": {},
   "source": [
    "# Задание 6"
   ]
  },
  {
   "cell_type": "code",
   "execution_count": 54,
   "metadata": {},
   "outputs": [
    {
     "name": "stdout",
     "output_type": "stream",
     "text": [
      "Введите тип фигуры: Круг\n",
      "Введите радиус круга: 3\n",
      "Площадь круга:  28.274333882308138\n"
     ]
    }
   ],
   "source": [
    "type = input(\"Введите тип фигуры: \")\n",
    "\n",
    "if type == \"Круг\":\n",
    "    r = float(input(\"Введите радиус круга: \"))\n",
    "    from math import pi\n",
    "    print(\"Площадь круга: \", pi * r ** 2)\n",
    "elif type == \"Треугольник\":\n",
    "    tr_a = float(input(\"Введите длину стороны A: \"))\n",
    "    tr_b = float(input(\"Введите длину стороны B: \"))\n",
    "    tr_c = float(input(\"Введите длину стороны C: \"))\n",
    "    p = (tr_a + tr_b + tr_c) / 2\n",
    "    from math import sqrt\n",
    "    s = sqrt(p * (p - tr_a) * (p - tr_b) * (p - tr_c))\n",
    "    print(\"Площадь треугольника: \", s)\n",
    "elif type == \"Прямоугольник\":\n",
    "    rec_a = float(input(\"Введите длину стороны A: \"))\n",
    "    rec_b = float(input(\"Введите длину стороны B: \"))\n",
    "    print(\"Площадь приямоугольника: \", rec_a * rec_b)\n",
    "else:\n",
    "    print(\"Ошибка: Тип не существует\")"
   ]
  }
 ],
 "metadata": {
  "kernelspec": {
   "display_name": "Python 3",
   "language": "python",
   "name": "python3"
  },
  "language_info": {
   "codemirror_mode": {
    "name": "ipython",
    "version": 3
   },
   "file_extension": ".py",
   "mimetype": "text/x-python",
   "name": "python",
   "nbconvert_exporter": "python",
   "pygments_lexer": "ipython3",
   "version": "3.7.6"
  }
 },
 "nbformat": 4,
 "nbformat_minor": 4
}
