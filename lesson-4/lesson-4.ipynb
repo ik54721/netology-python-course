{
 "cells": [
  {
   "cell_type": "markdown",
   "metadata": {},
   "source": [
    "# \"Функции\""
   ]
  },
  {
   "cell_type": "markdown",
   "metadata": {},
   "source": [
    "Вам нужно помочь секретарю автоматизировать работу. Для этого нужно написать программу, которая будет на основе хранимых данных исполнять пользовательские команды."
   ]
  },
  {
   "cell_type": "code",
   "execution_count": 112,
   "metadata": {},
   "outputs": [],
   "source": [
    "# перечень всех документов\n",
    "documents = [\n",
    " {'type': 'passport', 'number': '2207 876234', 'name': 'Василий Гупкин'},\n",
    " {'type': 'invoice', 'number': '11-2', 'name': 'Геннадий Покемонов'},\n",
    " {'type': 'insurance', 'number': '10006', 'name': 'Аристарх Павлов'}\n",
    "]\n",
    "\n",
    "# перечень полок, на которых хранятся документы (если документ есть в documents, \n",
    "# то он обязательно должен быть и в directories)\n",
    "directories = {\n",
    " '1': ['2207 876234', '11-2'],\n",
    " '2': ['10006'],\n",
    " '3': []\n",
    "}"
   ]
  },
  {
   "cell_type": "markdown",
   "metadata": {},
   "source": [
    "# Задание 1"
   ]
  },
  {
   "cell_type": "markdown",
   "metadata": {},
   "source": [
    "- Пункт 1. Пользователь по команде \"p\" может узнать владельца документа по его номеру\n",
    "- Пункт 2. Пользователь по команде \"s\" может по номеру документа узнать на какой полке он хранится\n",
    "- Пункт 3. Пользователь по команде \"l\" может увидеть полную информацию по всем документам\n",
    "- Пункт 4. Пользователь по команде \"ads\" может добавить новую полку\n",
    "- Пункт 5. Пользователь по команде \"ds\" может удалить существующую полку из данных (только если она пустая)"
   ]
  },
  {
   "cell_type": "markdown",
   "metadata": {},
   "source": [
    "# Задание 2"
   ]
  },
  {
   "cell_type": "markdown",
   "metadata": {},
   "source": [
    "- Пункт 1. Пользователь по команде \"ad\" может добавить новый документ в данные\n",
    "- Пункт 2. Пользователь по команде \"d\" может удалить документ из данных\n",
    "- Пункт 3. Пользователь по команде \"m\" может переместить документ с полки на полку"
   ]
  },
  {
   "cell_type": "code",
   "execution_count": 135,
   "metadata": {},
   "outputs": [],
   "source": [
    "def doc_owner(doc_num):\n",
    "    \"\"\"\n",
    "    Функция возвращает владельца документа по его номеру\n",
    "    \"\"\"\n",
    "    \n",
    "    for doc in documents:\n",
    "        if doc.get('number') == doc_num:\n",
    "            return 'Владелец документа: ' + doc.get('name')\n",
    "        \n",
    "    return 'Документ не найден в базе'"
   ]
  },
  {
   "cell_type": "code",
   "execution_count": 139,
   "metadata": {},
   "outputs": [],
   "source": [
    "def find_doc(doc_num):\n",
    "    \"\"\"\n",
    "    Функция находит индекс документа в списке по номеру документа\n",
    "    \"\"\"\n",
    "    \n",
    "    for doc in documents:\n",
    "        if doc.get('number') == doc_num:\n",
    "            return documents.index(doc)"
   ]
  },
  {
   "cell_type": "code",
   "execution_count": 134,
   "metadata": {},
   "outputs": [],
   "source": [
    "def doc_directory(doc_num):\n",
    "    \"\"\"\n",
    "    Функция возвращает по номеру документа на какой полке он хранится\n",
    "    \"\"\"\n",
    "    \n",
    "    for directory, docs in directories.items():\n",
    "        if doc_num in docs:\n",
    "            return directory"
   ]
  },
  {
   "cell_type": "code",
   "execution_count": 133,
   "metadata": {},
   "outputs": [],
   "source": [
    "def full_info():\n",
    "    \"\"\"\n",
    "    Функция возвращает полную информацию по всем документам\n",
    "    \"\"\"\n",
    "    \n",
    "    for doc in documents:\n",
    "        print(f\"№: {doc.get('number')}, тип: {doc.get('type')}, владелец: {doc.get('name')}, полка хранения: {doc_directory(doc.get('number'))}\")\n",
    "    "
   ]
  },
  {
   "cell_type": "code",
   "execution_count": 132,
   "metadata": {},
   "outputs": [],
   "source": [
    "def dir_list():\n",
    "    \"\"\"\n",
    "    Функция возвращает перечень номеров полок через запятую\n",
    "    \"\"\"\n",
    "    \n",
    "    return 'Текущий перечень полок: ' + (', ').join(list(directories.keys()))"
   ]
  },
  {
   "cell_type": "code",
   "execution_count": 131,
   "metadata": {},
   "outputs": [],
   "source": [
    "def add_dir(dir_num):\n",
    "    \"\"\"\n",
    "    Функция добавляет полку с указанным номером\n",
    "    \"\"\"\n",
    "    \n",
    "    if directories.get(dir_num) is not None:\n",
    "        print(f\"Такая полка уже существует. {dir_list()}.\")\n",
    "    else:\n",
    "        directories[dir_num] = []\n",
    "        print(f\"Полка добавлена. {dir_list()}.\")"
   ]
  },
  {
   "cell_type": "code",
   "execution_count": 130,
   "metadata": {},
   "outputs": [],
   "source": [
    "def del_dir(dir_num):\n",
    "    \"\"\"\n",
    "    Функция удаляет полку с указанным номером, если она пустая\n",
    "    \"\"\"\n",
    "    \n",
    "    if directories.get(dir_num) is not None:\n",
    "        if directories[dir_num] == []:\n",
    "            directories.pop(dir_num)\n",
    "            print(f\"Полка удалена. {dir_list()}.\")\n",
    "        else:\n",
    "            print(f\"На полке есть документы, удалите их перед удалением полки. {dir_list()}.\")\n",
    "    else:\n",
    "        print(f\"Такой полки не существует. {dir_list()}.\")"
   ]
  },
  {
   "cell_type": "code",
   "execution_count": 142,
   "metadata": {},
   "outputs": [],
   "source": [
    "def add_doc(doc_num, doc_type, doc_owner, dir_num):\n",
    "    \"\"\"\n",
    "    Функция добавляет новый документ\n",
    "    \"\"\"\n",
    "    \n",
    "    if find_doc(doc_num) is not None:\n",
    "        print('Документ с таким номером существует. Текущий список документов:')\n",
    "        full_info()\n",
    "        return\n",
    "    elif directories.get(dir_num) is None:\n",
    "        print('Такой полки не существует. Добавьте полку командой ads.')\n",
    "        print('Текущий список документов:')\n",
    "        full_info()\n",
    "        return\n",
    "    else:\n",
    "        documents.append({'type': doc_type, 'number': doc_num, 'name': doc_owner})\n",
    "        directories[dir_num].append(doc_num)\n",
    "        print('Документ добавлен. Текущий список документов:')\n",
    "        full_info()\n",
    "        return"
   ]
  },
  {
   "cell_type": "code",
   "execution_count": 144,
   "metadata": {},
   "outputs": [],
   "source": [
    "def del_doc(doc_num):\n",
    "    \"\"\"\n",
    "    Функция удаляет документ с указанным номером\n",
    "    \"\"\"\n",
    "    \n",
    "    doc_index = find_doc(doc_num)\n",
    "    if doc_index is not None:\n",
    "            documents.pop(doc_index)\n",
    "            print('Документ удален. Текущий список документов:')\n",
    "            full_info()\n",
    "            return\n",
    "    else:          \n",
    "        print('Документ не найден в базе. Текущий список документов:')\n",
    "        full_info()\n",
    "        return"
   ]
  },
  {
   "cell_type": "code",
   "execution_count": 148,
   "metadata": {},
   "outputs": [],
   "source": [
    "def move_doc(doc_num, dir_num):\n",
    "    \"\"\"\n",
    "    Функция перемещает документ на указанную полку\n",
    "    \"\"\"\n",
    "    \n",
    "    if find_doc(doc_num) is not None:\n",
    "        if directories.get(dir_num) is None:\n",
    "            print('Такой полки не существует. Добавьте полку командой ads.')\n",
    "            print('Текущий список документов:')\n",
    "            full_info()\n",
    "            return\n",
    "        else:\n",
    "            directories[doc_directory(doc_num)].remove(doc_num)\n",
    "            directories[dir_num].append(doc_num)\n",
    "            print('Документ перемещен. Текущий список документов:')\n",
    "            full_info()\n",
    "            return\n",
    "    else:          \n",
    "        print('Документ не найден в базе. Текущий список документов:')\n",
    "        full_info()\n",
    "        return        "
   ]
  },
  {
   "cell_type": "code",
   "execution_count": 150,
   "metadata": {},
   "outputs": [
    {
     "name": "stdout",
     "output_type": "stream",
     "text": [
      "Введите команду: q\n"
     ]
    }
   ],
   "source": [
    "def main():\n",
    "    command = ''\n",
    "    while command != 'q':\n",
    "        command = input('Введите команду: ')\n",
    "        \n",
    "        if command == 'p':\n",
    "            print(doc_owner(input('Введите номер документа: ')))\n",
    "        \n",
    "        elif command == 's':\n",
    "            directory = doc_directory(input('Введите номер документа: '))\n",
    "            if directory is not None:\n",
    "                print('Документ хранится на полке: ', directory)\n",
    "            else:\n",
    "                print('Документ не найден в базе')\n",
    "        \n",
    "        elif command == 'l':\n",
    "            full_info()\n",
    "        \n",
    "        elif command == 'ads':\n",
    "            add_dir(input('Введите номер полки: '))\n",
    "        \n",
    "        elif command == 'ds':\n",
    "            del_dir(input('Введите номер полки: '))\n",
    "        \n",
    "        elif command == 'ad':\n",
    "            add_doc(input('Введите номер документа: '), \n",
    "                    input('Введите тип документа: '), \n",
    "                    input('Введите владельца документа: '), \n",
    "                    input('Введите полку для хранения: '))\n",
    "        \n",
    "        elif command == 'd':\n",
    "            del_doc(input('Введите номер документа: '))\n",
    "        \n",
    "        elif command == 'm':\n",
    "            move_doc(input('Введите номер документа: '),\n",
    "                     input('Введите номер полки: '))\n",
    "            \n",
    "main()"
   ]
  }
 ],
 "metadata": {
  "kernelspec": {
   "display_name": "Python 3",
   "language": "python",
   "name": "python3"
  },
  "language_info": {
   "codemirror_mode": {
    "name": "ipython",
    "version": 3
   },
   "file_extension": ".py",
   "mimetype": "text/x-python",
   "name": "python",
   "nbconvert_exporter": "python",
   "pygments_lexer": "ipython3",
   "version": "3.7.6"
  }
 },
 "nbformat": 4,
 "nbformat_minor": 4
}
